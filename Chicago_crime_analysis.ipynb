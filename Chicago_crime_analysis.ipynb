{
 "cells": [
  {
   "cell_type": "code",
   "execution_count": 12,
   "metadata": {},
   "outputs": [
    {
     "name": "stderr",
     "output_type": "stream",
     "text": [
      "/Users/saitejasriyerramsetti/.pyenv/versions/3.11.7/lib/python3.11/site-packages/dask/dataframe/__init__.py:42: FutureWarning: \n",
      "Dask dataframe query planning is disabled because dask-expr is not installed.\n",
      "\n",
      "You can install it with `pip install dask[dataframe]` or `conda install dask`.\n",
      "This will raise in a future version.\n",
      "\n",
      "  warnings.warn(msg, FutureWarning)\n"
     ]
    }
   ],
   "source": [
    "import dask.dataframe as dd\n",
    "import numpy as np \n",
    "import pandas as pd\n",
    "import matplotlib.pyplot as plt\n",
    "import matplotlib.ticker as ticker\n",
    "import seaborn as sns"
   ]
  },
  {
   "cell_type": "code",
   "execution_count": 16,
   "metadata": {},
   "outputs": [],
   "source": [
    "%matplotlib inline\n",
    "#%config InlineBackend.figure_format = 'svg'\n",
    "\n",
    "# set neat seaborn whitegrid styles for matplotlib charts\n",
    "\n",
    "sns.set_style('whitegrid')"
   ]
  },
  {
   "cell_type": "code",
   "execution_count": 6,
   "metadata": {},
   "outputs": [],
   "source": [
    "df = pd.read_csv('/Users/saitejasriyerramsetti/Documents/BDA 696/chicago crime/data/Crimes_-_2001_to_Present_20240918.csv')"
   ]
  },
  {
   "cell_type": "code",
   "execution_count": 7,
   "metadata": {},
   "outputs": [
    {
     "data": {
      "text/plain": [
       "(8156508, 22)"
      ]
     },
     "execution_count": 7,
     "metadata": {},
     "output_type": "execute_result"
    }
   ],
   "source": [
    "df.shape"
   ]
  },
  {
   "cell_type": "code",
   "execution_count": 10,
   "metadata": {},
   "outputs": [
    {
     "name": "stdout",
     "output_type": "stream",
     "text": [
      "Total rows after update: 8157508\n"
     ]
    }
   ],
   "source": [
    "import requests\n",
    "import pandas as pd\n",
    "from datetime import datetime\n",
    "\n",
    "# Base URL for Chicago Crimes API\n",
    "base_url = \"https://data.cityofchicago.org/resource/ijzp-q8t2.json\"\n",
    "\n",
    "# The last date from which we want to fetch new data (previously saved)\n",
    "# For example, if the last data fetch included crimes up to 2024-09-30\n",
    "last_fetched_date = \"2024-09-30T00:00:00.000\"  # Replace this with the actual last date you fetched\n",
    "\n",
    "# API parameters to fetch data after the last fetched date\n",
    "params = {\n",
    "    \"$limit\": 1000,  # Maximum rows per request\n",
    "    \"$where\": f\"date > '{last_fetched_date}'\"  # Fetch crimes after the last fetched date\n",
    "}\n",
    "\n",
    "# Fetch the new data\n",
    "response = requests.get(base_url, params=params)\n",
    "new_data = response.json()\n",
    "\n",
    "# Convert the new data to a Pandas DataFrame\n",
    "df_new = pd.DataFrame(new_data)\n",
    "\n",
    "# Append the new data to the existing dataset (assume you have an existing DataFrame df_existing)\n",
    "df_combined = pd.concat([df, df_new], ignore_index=True)\n",
    "\n",
    "# Save the updated dataset (optional)\n",
    "df_combined.to_csv(\"chicago_crimes_updated.csv\", index=False)\n",
    "\n",
    "print(f\"Total rows after update: {len(df_combined)}\")\n"
   ]
  },
  {
   "cell_type": "code",
   "execution_count": 20,
   "metadata": {},
   "outputs": [
    {
     "name": "stdout",
     "output_type": "stream",
     "text": [
      "Chicago Crime data stats:\n",
      "---------------------------------------\n",
      "8,156,508 total records\n",
      "DataFrame size: 179,443,176\n"
     ]
    }
   ],
   "source": [
    "print('Chicago Crime data stats:')\n",
    "print('---------------------------------------')\n",
    "print('{:,} total records'.format(len(df)))  # No partitions for pandas DataFrame\n",
    "print('DataFrame size: {:,}'.format(df.size))\n"
   ]
  },
  {
   "cell_type": "code",
   "execution_count": 21,
   "metadata": {},
   "outputs": [
    {
     "data": {
      "text/html": [
       "<div>\n",
       "<style scoped>\n",
       "    .dataframe tbody tr th:only-of-type {\n",
       "        vertical-align: middle;\n",
       "    }\n",
       "\n",
       "    .dataframe tbody tr th {\n",
       "        vertical-align: top;\n",
       "    }\n",
       "\n",
       "    .dataframe thead th {\n",
       "        text-align: right;\n",
       "    }\n",
       "</style>\n",
       "<table border=\"1\" class=\"dataframe\">\n",
       "  <thead>\n",
       "    <tr style=\"text-align: right;\">\n",
       "      <th></th>\n",
       "      <th>ID</th>\n",
       "      <th>Case Number</th>\n",
       "      <th>Date</th>\n",
       "      <th>Block</th>\n",
       "      <th>IUCR</th>\n",
       "      <th>Primary Type</th>\n",
       "      <th>Description</th>\n",
       "      <th>Location Description</th>\n",
       "      <th>Arrest</th>\n",
       "      <th>Domestic</th>\n",
       "      <th>...</th>\n",
       "      <th>Ward</th>\n",
       "      <th>Community Area</th>\n",
       "      <th>FBI Code</th>\n",
       "      <th>X Coordinate</th>\n",
       "      <th>Y Coordinate</th>\n",
       "      <th>Year</th>\n",
       "      <th>Updated On</th>\n",
       "      <th>Latitude</th>\n",
       "      <th>Longitude</th>\n",
       "      <th>Location</th>\n",
       "    </tr>\n",
       "  </thead>\n",
       "  <tbody>\n",
       "    <tr>\n",
       "      <th>0</th>\n",
       "      <td>11037294</td>\n",
       "      <td>JA371270</td>\n",
       "      <td>03/18/2015 12:00:00 PM</td>\n",
       "      <td>0000X W WACKER DR</td>\n",
       "      <td>1153</td>\n",
       "      <td>DECEPTIVE PRACTICE</td>\n",
       "      <td>FINANCIAL IDENTITY THEFT OVER $ 300</td>\n",
       "      <td>BANK</td>\n",
       "      <td>False</td>\n",
       "      <td>False</td>\n",
       "      <td>...</td>\n",
       "      <td>42.0</td>\n",
       "      <td>32.0</td>\n",
       "      <td>11</td>\n",
       "      <td>NaN</td>\n",
       "      <td>NaN</td>\n",
       "      <td>2015</td>\n",
       "      <td>08/01/2017 03:52:26 PM</td>\n",
       "      <td>NaN</td>\n",
       "      <td>NaN</td>\n",
       "      <td>NaN</td>\n",
       "    </tr>\n",
       "    <tr>\n",
       "      <th>1</th>\n",
       "      <td>11646293</td>\n",
       "      <td>JC213749</td>\n",
       "      <td>12/20/2018 03:00:00 PM</td>\n",
       "      <td>023XX N LOCKWOOD AVE</td>\n",
       "      <td>1154</td>\n",
       "      <td>DECEPTIVE PRACTICE</td>\n",
       "      <td>FINANCIAL IDENTITY THEFT $300 AND UNDER</td>\n",
       "      <td>APARTMENT</td>\n",
       "      <td>False</td>\n",
       "      <td>False</td>\n",
       "      <td>...</td>\n",
       "      <td>36.0</td>\n",
       "      <td>19.0</td>\n",
       "      <td>11</td>\n",
       "      <td>NaN</td>\n",
       "      <td>NaN</td>\n",
       "      <td>2018</td>\n",
       "      <td>04/06/2019 04:04:43 PM</td>\n",
       "      <td>NaN</td>\n",
       "      <td>NaN</td>\n",
       "      <td>NaN</td>\n",
       "    </tr>\n",
       "    <tr>\n",
       "      <th>2</th>\n",
       "      <td>11645836</td>\n",
       "      <td>JC212333</td>\n",
       "      <td>05/01/2016 12:25:00 AM</td>\n",
       "      <td>055XX S ROCKWELL ST</td>\n",
       "      <td>1153</td>\n",
       "      <td>DECEPTIVE PRACTICE</td>\n",
       "      <td>FINANCIAL IDENTITY THEFT OVER $ 300</td>\n",
       "      <td>NaN</td>\n",
       "      <td>False</td>\n",
       "      <td>False</td>\n",
       "      <td>...</td>\n",
       "      <td>15.0</td>\n",
       "      <td>63.0</td>\n",
       "      <td>11</td>\n",
       "      <td>NaN</td>\n",
       "      <td>NaN</td>\n",
       "      <td>2016</td>\n",
       "      <td>04/06/2019 04:04:43 PM</td>\n",
       "      <td>NaN</td>\n",
       "      <td>NaN</td>\n",
       "      <td>NaN</td>\n",
       "    </tr>\n",
       "    <tr>\n",
       "      <th>3</th>\n",
       "      <td>11645959</td>\n",
       "      <td>JC211511</td>\n",
       "      <td>12/20/2018 04:00:00 PM</td>\n",
       "      <td>045XX N ALBANY AVE</td>\n",
       "      <td>2820</td>\n",
       "      <td>OTHER OFFENSE</td>\n",
       "      <td>TELEPHONE THREAT</td>\n",
       "      <td>RESIDENCE</td>\n",
       "      <td>False</td>\n",
       "      <td>False</td>\n",
       "      <td>...</td>\n",
       "      <td>33.0</td>\n",
       "      <td>14.0</td>\n",
       "      <td>08A</td>\n",
       "      <td>NaN</td>\n",
       "      <td>NaN</td>\n",
       "      <td>2018</td>\n",
       "      <td>04/06/2019 04:04:43 PM</td>\n",
       "      <td>NaN</td>\n",
       "      <td>NaN</td>\n",
       "      <td>NaN</td>\n",
       "    </tr>\n",
       "    <tr>\n",
       "      <th>4</th>\n",
       "      <td>11645601</td>\n",
       "      <td>JC212935</td>\n",
       "      <td>06/01/2014 12:01:00 AM</td>\n",
       "      <td>087XX S SANGAMON ST</td>\n",
       "      <td>1153</td>\n",
       "      <td>DECEPTIVE PRACTICE</td>\n",
       "      <td>FINANCIAL IDENTITY THEFT OVER $ 300</td>\n",
       "      <td>RESIDENCE</td>\n",
       "      <td>False</td>\n",
       "      <td>False</td>\n",
       "      <td>...</td>\n",
       "      <td>21.0</td>\n",
       "      <td>71.0</td>\n",
       "      <td>11</td>\n",
       "      <td>NaN</td>\n",
       "      <td>NaN</td>\n",
       "      <td>2014</td>\n",
       "      <td>04/06/2019 04:04:43 PM</td>\n",
       "      <td>NaN</td>\n",
       "      <td>NaN</td>\n",
       "      <td>NaN</td>\n",
       "    </tr>\n",
       "  </tbody>\n",
       "</table>\n",
       "<p>5 rows × 22 columns</p>\n",
       "</div>"
      ],
      "text/plain": [
       "         ID Case Number                    Date                 Block  IUCR  \\\n",
       "0  11037294    JA371270  03/18/2015 12:00:00 PM     0000X W WACKER DR  1153   \n",
       "1  11646293    JC213749  12/20/2018 03:00:00 PM  023XX N LOCKWOOD AVE  1154   \n",
       "2  11645836    JC212333  05/01/2016 12:25:00 AM   055XX S ROCKWELL ST  1153   \n",
       "3  11645959    JC211511  12/20/2018 04:00:00 PM    045XX N ALBANY AVE  2820   \n",
       "4  11645601    JC212935  06/01/2014 12:01:00 AM   087XX S SANGAMON ST  1153   \n",
       "\n",
       "         Primary Type                              Description  \\\n",
       "0  DECEPTIVE PRACTICE      FINANCIAL IDENTITY THEFT OVER $ 300   \n",
       "1  DECEPTIVE PRACTICE  FINANCIAL IDENTITY THEFT $300 AND UNDER   \n",
       "2  DECEPTIVE PRACTICE      FINANCIAL IDENTITY THEFT OVER $ 300   \n",
       "3       OTHER OFFENSE                         TELEPHONE THREAT   \n",
       "4  DECEPTIVE PRACTICE      FINANCIAL IDENTITY THEFT OVER $ 300   \n",
       "\n",
       "  Location Description  Arrest  Domestic  ...  Ward  Community Area  FBI Code  \\\n",
       "0                 BANK   False     False  ...  42.0            32.0        11   \n",
       "1            APARTMENT   False     False  ...  36.0            19.0        11   \n",
       "2                  NaN   False     False  ...  15.0            63.0        11   \n",
       "3            RESIDENCE   False     False  ...  33.0            14.0       08A   \n",
       "4            RESIDENCE   False     False  ...  21.0            71.0        11   \n",
       "\n",
       "   X Coordinate Y Coordinate  Year              Updated On  Latitude  \\\n",
       "0           NaN          NaN  2015  08/01/2017 03:52:26 PM       NaN   \n",
       "1           NaN          NaN  2018  04/06/2019 04:04:43 PM       NaN   \n",
       "2           NaN          NaN  2016  04/06/2019 04:04:43 PM       NaN   \n",
       "3           NaN          NaN  2018  04/06/2019 04:04:43 PM       NaN   \n",
       "4           NaN          NaN  2014  04/06/2019 04:04:43 PM       NaN   \n",
       "\n",
       "  Longitude  Location  \n",
       "0       NaN       NaN  \n",
       "1       NaN       NaN  \n",
       "2       NaN       NaN  \n",
       "3       NaN       NaN  \n",
       "4       NaN       NaN  \n",
       "\n",
       "[5 rows x 22 columns]"
      ]
     },
     "execution_count": 21,
     "metadata": {},
     "output_type": "execute_result"
    }
   ],
   "source": [
    "df.head(5)"
   ]
  },
  {
   "cell_type": "code",
   "execution_count": 22,
   "metadata": {},
   "outputs": [
    {
     "name": "stdout",
     "output_type": "stream",
     "text": [
      "<class 'pandas.core.frame.DataFrame'>\n",
      "RangeIndex: 8156508 entries, 0 to 8156507\n",
      "Data columns (total 25 columns):\n",
      " #   Column                Dtype         \n",
      "---  ------                -----         \n",
      " 0   ID                    int64         \n",
      " 1   Case Number           object        \n",
      " 2   Date                  datetime64[ns]\n",
      " 3   Block                 object        \n",
      " 4   IUCR                  object        \n",
      " 5   Primary Type          object        \n",
      " 6   Description           object        \n",
      " 7   Location Description  object        \n",
      " 8   Arrest                bool          \n",
      " 9   Domestic              bool          \n",
      " 10  Beat                  int64         \n",
      " 11  District              float64       \n",
      " 12  Ward                  float64       \n",
      " 13  Community Area        float64       \n",
      " 14  FBI Code              object        \n",
      " 15  X Coordinate          float64       \n",
      " 16  Y Coordinate          float64       \n",
      " 17  Year                  int32         \n",
      " 18  Updated On            object        \n",
      " 19  Latitude              float64       \n",
      " 20  Longitude             float64       \n",
      " 21  Location              object        \n",
      " 22  Month                 int32         \n",
      " 23  DayOfWeek             object        \n",
      " 24  Hour                  int32         \n",
      "dtypes: bool(2), datetime64[ns](1), float64(7), int32(3), int64(2), object(10)\n",
      "memory usage: 1.3+ GB\n",
      "None\n"
     ]
    }
   ],
   "source": [
    "import pandas as pd\n",
    "\n",
    "# Load your data (assuming df is your DataFrame)\n",
    "# Convert 'Date' column to datetime format\n",
    "df['Date'] = pd.to_datetime(df['Date'], errors='coerce')\n",
    "\n",
    "# Extract different components of the date\n",
    "df['Year'] = df['Date'].dt.year\n",
    "df['Month'] = df['Date'].dt.month\n",
    "df['DayOfWeek'] = df['Date'].dt.day_name()\n",
    "df['Hour'] = df['Date'].dt.hour\n",
    "\n",
    "# Quick overview of data types and null values\n",
    "print(df.info())\n"
   ]
  },
  {
   "cell_type": "code",
   "execution_count": 23,
   "metadata": {},
   "outputs": [
    {
     "data": {
      "text/html": [
       "<div>\n",
       "<style scoped>\n",
       "    .dataframe tbody tr th:only-of-type {\n",
       "        vertical-align: middle;\n",
       "    }\n",
       "\n",
       "    .dataframe tbody tr th {\n",
       "        vertical-align: top;\n",
       "    }\n",
       "\n",
       "    .dataframe thead th {\n",
       "        text-align: right;\n",
       "    }\n",
       "</style>\n",
       "<table border=\"1\" class=\"dataframe\">\n",
       "  <thead>\n",
       "    <tr style=\"text-align: right;\">\n",
       "      <th></th>\n",
       "      <th>ID</th>\n",
       "      <th>Date</th>\n",
       "      <th>Beat</th>\n",
       "      <th>District</th>\n",
       "      <th>Ward</th>\n",
       "      <th>Community Area</th>\n",
       "      <th>X Coordinate</th>\n",
       "      <th>Y Coordinate</th>\n",
       "      <th>Year</th>\n",
       "      <th>Latitude</th>\n",
       "      <th>Longitude</th>\n",
       "      <th>Month</th>\n",
       "      <th>Hour</th>\n",
       "    </tr>\n",
       "  </thead>\n",
       "  <tbody>\n",
       "    <tr>\n",
       "      <th>count</th>\n",
       "      <td>8.156508e+06</td>\n",
       "      <td>8156508</td>\n",
       "      <td>8.156508e+06</td>\n",
       "      <td>8.156461e+06</td>\n",
       "      <td>7.541679e+06</td>\n",
       "      <td>7.543055e+06</td>\n",
       "      <td>8.066667e+06</td>\n",
       "      <td>8.066667e+06</td>\n",
       "      <td>8.156508e+06</td>\n",
       "      <td>8.066667e+06</td>\n",
       "      <td>8.066667e+06</td>\n",
       "      <td>8.156508e+06</td>\n",
       "      <td>8.156508e+06</td>\n",
       "    </tr>\n",
       "    <tr>\n",
       "      <th>mean</th>\n",
       "      <td>7.311930e+06</td>\n",
       "      <td>2011-01-23 02:22:04.019506176</td>\n",
       "      <td>1.184680e+03</td>\n",
       "      <td>1.129756e+01</td>\n",
       "      <td>2.277397e+01</td>\n",
       "      <td>3.742005e+01</td>\n",
       "      <td>1.164628e+06</td>\n",
       "      <td>1.885864e+06</td>\n",
       "      <td>2.010559e+03</td>\n",
       "      <td>4.184241e+01</td>\n",
       "      <td>-8.767139e+01</td>\n",
       "      <td>6.535482e+00</td>\n",
       "      <td>1.309434e+01</td>\n",
       "    </tr>\n",
       "    <tr>\n",
       "      <th>min</th>\n",
       "      <td>6.340000e+02</td>\n",
       "      <td>2001-01-01 00:00:00</td>\n",
       "      <td>1.110000e+02</td>\n",
       "      <td>1.000000e+00</td>\n",
       "      <td>1.000000e+00</td>\n",
       "      <td>0.000000e+00</td>\n",
       "      <td>0.000000e+00</td>\n",
       "      <td>0.000000e+00</td>\n",
       "      <td>2.001000e+03</td>\n",
       "      <td>3.661945e+01</td>\n",
       "      <td>-9.168657e+01</td>\n",
       "      <td>1.000000e+00</td>\n",
       "      <td>0.000000e+00</td>\n",
       "    </tr>\n",
       "    <tr>\n",
       "      <th>25%</th>\n",
       "      <td>3.939192e+06</td>\n",
       "      <td>2005-04-14 23:00:00</td>\n",
       "      <td>6.210000e+02</td>\n",
       "      <td>6.000000e+00</td>\n",
       "      <td>1.000000e+01</td>\n",
       "      <td>2.300000e+01</td>\n",
       "      <td>1.153028e+06</td>\n",
       "      <td>1.859136e+06</td>\n",
       "      <td>2.005000e+03</td>\n",
       "      <td>4.176885e+01</td>\n",
       "      <td>-8.771350e+01</td>\n",
       "      <td>4.000000e+00</td>\n",
       "      <td>9.000000e+00</td>\n",
       "    </tr>\n",
       "    <tr>\n",
       "      <th>50%</th>\n",
       "      <td>7.307124e+06</td>\n",
       "      <td>2010-01-01 11:06:30</td>\n",
       "      <td>1.034000e+03</td>\n",
       "      <td>1.000000e+01</td>\n",
       "      <td>2.300000e+01</td>\n",
       "      <td>3.200000e+01</td>\n",
       "      <td>1.166168e+06</td>\n",
       "      <td>1.890878e+06</td>\n",
       "      <td>2.010000e+03</td>\n",
       "      <td>4.185622e+01</td>\n",
       "      <td>-8.766571e+01</td>\n",
       "      <td>7.000000e+00</td>\n",
       "      <td>1.400000e+01</td>\n",
       "    </tr>\n",
       "    <tr>\n",
       "      <th>75%</th>\n",
       "      <td>1.059528e+07</td>\n",
       "      <td>2016-07-03 23:05:15</td>\n",
       "      <td>1.731000e+03</td>\n",
       "      <td>1.700000e+01</td>\n",
       "      <td>3.400000e+01</td>\n",
       "      <td>5.700000e+01</td>\n",
       "      <td>1.176390e+06</td>\n",
       "      <td>1.909379e+06</td>\n",
       "      <td>2.016000e+03</td>\n",
       "      <td>4.190702e+01</td>\n",
       "      <td>-8.762811e+01</td>\n",
       "      <td>9.000000e+00</td>\n",
       "      <td>1.900000e+01</td>\n",
       "    </tr>\n",
       "    <tr>\n",
       "      <th>max</th>\n",
       "      <td>1.360058e+07</td>\n",
       "      <td>2024-09-10 00:00:00</td>\n",
       "      <td>2.535000e+03</td>\n",
       "      <td>3.100000e+01</td>\n",
       "      <td>5.000000e+01</td>\n",
       "      <td>7.700000e+01</td>\n",
       "      <td>1.205119e+06</td>\n",
       "      <td>1.951622e+06</td>\n",
       "      <td>2.024000e+03</td>\n",
       "      <td>4.202291e+01</td>\n",
       "      <td>-8.752453e+01</td>\n",
       "      <td>1.200000e+01</td>\n",
       "      <td>2.300000e+01</td>\n",
       "    </tr>\n",
       "    <tr>\n",
       "      <th>std</th>\n",
       "      <td>3.665571e+06</td>\n",
       "      <td>NaN</td>\n",
       "      <td>7.035513e+02</td>\n",
       "      <td>6.959836e+00</td>\n",
       "      <td>1.385599e+01</td>\n",
       "      <td>2.154698e+01</td>\n",
       "      <td>1.697433e+04</td>\n",
       "      <td>3.246270e+04</td>\n",
       "      <td>6.734973e+00</td>\n",
       "      <td>8.931732e-02</td>\n",
       "      <td>6.150334e-02</td>\n",
       "      <td>3.338670e+00</td>\n",
       "      <td>6.756705e+00</td>\n",
       "    </tr>\n",
       "  </tbody>\n",
       "</table>\n",
       "</div>"
      ],
      "text/plain": [
       "                 ID                           Date          Beat  \\\n",
       "count  8.156508e+06                        8156508  8.156508e+06   \n",
       "mean   7.311930e+06  2011-01-23 02:22:04.019506176  1.184680e+03   \n",
       "min    6.340000e+02            2001-01-01 00:00:00  1.110000e+02   \n",
       "25%    3.939192e+06            2005-04-14 23:00:00  6.210000e+02   \n",
       "50%    7.307124e+06            2010-01-01 11:06:30  1.034000e+03   \n",
       "75%    1.059528e+07            2016-07-03 23:05:15  1.731000e+03   \n",
       "max    1.360058e+07            2024-09-10 00:00:00  2.535000e+03   \n",
       "std    3.665571e+06                            NaN  7.035513e+02   \n",
       "\n",
       "           District          Ward  Community Area  X Coordinate  Y Coordinate  \\\n",
       "count  8.156461e+06  7.541679e+06    7.543055e+06  8.066667e+06  8.066667e+06   \n",
       "mean   1.129756e+01  2.277397e+01    3.742005e+01  1.164628e+06  1.885864e+06   \n",
       "min    1.000000e+00  1.000000e+00    0.000000e+00  0.000000e+00  0.000000e+00   \n",
       "25%    6.000000e+00  1.000000e+01    2.300000e+01  1.153028e+06  1.859136e+06   \n",
       "50%    1.000000e+01  2.300000e+01    3.200000e+01  1.166168e+06  1.890878e+06   \n",
       "75%    1.700000e+01  3.400000e+01    5.700000e+01  1.176390e+06  1.909379e+06   \n",
       "max    3.100000e+01  5.000000e+01    7.700000e+01  1.205119e+06  1.951622e+06   \n",
       "std    6.959836e+00  1.385599e+01    2.154698e+01  1.697433e+04  3.246270e+04   \n",
       "\n",
       "               Year      Latitude     Longitude         Month          Hour  \n",
       "count  8.156508e+06  8.066667e+06  8.066667e+06  8.156508e+06  8.156508e+06  \n",
       "mean   2.010559e+03  4.184241e+01 -8.767139e+01  6.535482e+00  1.309434e+01  \n",
       "min    2.001000e+03  3.661945e+01 -9.168657e+01  1.000000e+00  0.000000e+00  \n",
       "25%    2.005000e+03  4.176885e+01 -8.771350e+01  4.000000e+00  9.000000e+00  \n",
       "50%    2.010000e+03  4.185622e+01 -8.766571e+01  7.000000e+00  1.400000e+01  \n",
       "75%    2.016000e+03  4.190702e+01 -8.762811e+01  9.000000e+00  1.900000e+01  \n",
       "max    2.024000e+03  4.202291e+01 -8.752453e+01  1.200000e+01  2.300000e+01  \n",
       "std    6.734973e+00  8.931732e-02  6.150334e-02  3.338670e+00  6.756705e+00  "
      ]
     },
     "execution_count": 23,
     "metadata": {},
     "output_type": "execute_result"
    }
   ],
   "source": [
    "df.describe()"
   ]
  },
  {
   "cell_type": "code",
   "execution_count": 24,
   "metadata": {},
   "outputs": [
    {
     "data": {
      "text/plain": [
       "ID                           0\n",
       "Case Number                  0\n",
       "Date                         0\n",
       "Block                        0\n",
       "IUCR                         0\n",
       "Primary Type                 0\n",
       "Description                  0\n",
       "Location Description     13553\n",
       "Arrest                       0\n",
       "Domestic                     0\n",
       "Beat                         0\n",
       "District                    47\n",
       "Ward                    614829\n",
       "Community Area          613453\n",
       "FBI Code                     0\n",
       "X Coordinate             89841\n",
       "Y Coordinate             89841\n",
       "Year                         0\n",
       "Updated On                   0\n",
       "Latitude                 89841\n",
       "Longitude                89841\n",
       "Location                 89841\n",
       "Month                        0\n",
       "DayOfWeek                    0\n",
       "Hour                         0\n",
       "dtype: int64"
      ]
     },
     "execution_count": 24,
     "metadata": {},
     "output_type": "execute_result"
    }
   ],
   "source": [
    "df.isnull().sum()\n"
   ]
  },
  {
   "cell_type": "code",
   "execution_count": 25,
   "metadata": {},
   "outputs": [
    {
     "data": {
      "text/plain": [
       "Location Description\n",
       "STREET                            2131943\n",
       "RESIDENCE                         1350410\n",
       "APARTMENT                          948674\n",
       "SIDEWALK                           748670\n",
       "OTHER                              269994\n",
       "PARKING LOT/GARAGE(NON.RESID.)     202957\n",
       "ALLEY                              181610\n",
       "SMALL RETAIL STORE                 159159\n",
       "SCHOOL, PUBLIC, BUILDING           146372\n",
       "RESIDENCE-GARAGE                   135466\n",
       "Name: count, dtype: int64"
      ]
     },
     "execution_count": 25,
     "metadata": {},
     "output_type": "execute_result"
    }
   ],
   "source": [
    "df['Location Description'].value_counts().head(10)"
   ]
  },
  {
   "cell_type": "code",
   "execution_count": 26,
   "metadata": {},
   "outputs": [
    {
     "data": {
      "text/plain": [
       "np.int64(13553)"
      ]
     },
     "execution_count": 26,
     "metadata": {},
     "output_type": "execute_result"
    }
   ],
   "source": [
    "df['Location Description'].isnull().sum()"
   ]
  },
  {
   "cell_type": "code",
   "execution_count": 27,
   "metadata": {},
   "outputs": [
    {
     "name": "stdout",
     "output_type": "stream",
     "text": [
      "          ID Case Number                Date                 Block  IUCR  \\\n",
      "2   11645836    JC212333 2016-05-01 00:25:00   055XX S ROCKWELL ST  1153   \n",
      "9   11645833    JC213044 2012-05-05 12:25:00       057XX W OHIO ST  1153   \n",
      "23  11646766    JC214025 2018-01-01 09:10:00   019XX N KENMORE AVE  1153   \n",
      "57  11648818    JC216121 2016-05-08 09:45:00       0000X W 73RD ST  1153   \n",
      "60  11648806    JC216119 2013-12-01 09:20:00  001XX E MARQUETTE RD  1153   \n",
      "\n",
      "          Primary Type                          Description  \\\n",
      "2   DECEPTIVE PRACTICE  FINANCIAL IDENTITY THEFT OVER $ 300   \n",
      "9   DECEPTIVE PRACTICE  FINANCIAL IDENTITY THEFT OVER $ 300   \n",
      "23  DECEPTIVE PRACTICE  FINANCIAL IDENTITY THEFT OVER $ 300   \n",
      "57  DECEPTIVE PRACTICE  FINANCIAL IDENTITY THEFT OVER $ 300   \n",
      "60  DECEPTIVE PRACTICE  FINANCIAL IDENTITY THEFT OVER $ 300   \n",
      "\n",
      "   Location Description  Arrest  Domestic  ...  X Coordinate  Y Coordinate  \\\n",
      "2                   NaN   False     False  ...           NaN           NaN   \n",
      "9                   NaN   False     False  ...           NaN           NaN   \n",
      "23                  NaN   False     False  ...           NaN           NaN   \n",
      "57                  NaN   False     False  ...           NaN           NaN   \n",
      "60                  NaN   False     False  ...           NaN           NaN   \n",
      "\n",
      "    Year              Updated On Latitude  Longitude  Location  Month  \\\n",
      "2   2016  04/06/2019 04:04:43 PM      NaN        NaN       NaN      5   \n",
      "9   2012  04/06/2019 04:04:43 PM      NaN        NaN       NaN      5   \n",
      "23  2018  04/07/2019 04:05:59 PM      NaN        NaN       NaN      1   \n",
      "57  2016  04/09/2019 04:24:58 PM      NaN        NaN       NaN      5   \n",
      "60  2013  04/09/2019 04:24:58 PM      NaN        NaN       NaN     12   \n",
      "\n",
      "   DayOfWeek  Hour  \n",
      "2     Sunday     0  \n",
      "9   Saturday    12  \n",
      "23    Monday     9  \n",
      "57    Sunday     9  \n",
      "60    Sunday     9  \n",
      "\n",
      "[5 rows x 25 columns]\n"
     ]
    }
   ],
   "source": [
    "# View rows where 'Location Description' is missing\n",
    "missing_location_desc = df[df['Location Description'].isnull()]\n",
    "print(missing_location_desc.head())\n"
   ]
  },
  {
   "cell_type": "code",
   "execution_count": 30,
   "metadata": {},
   "outputs": [
    {
     "data": {
      "text/plain": [
       "np.int64(1691087)"
      ]
     },
     "execution_count": 30,
     "metadata": {},
     "output_type": "execute_result"
    }
   ],
   "source": [
    "df.isna().sum().sum()"
   ]
  },
  {
   "cell_type": "code",
   "execution_count": 34,
   "metadata": {},
   "outputs": [],
   "source": [
    "# Group by 'Block' to see the most common location description for each block\n",
    "block_location_mapping = df.groupby('Block')['Location Description'].agg(lambda x: x.value_counts())\n",
    "\n",
    "# # Apply this mapping to fill missing values in 'Location Description'\n",
    "# df['Location Description'] = df.apply(\n",
    "#     lambda row: block_location_mapping.get(row['Block']) if pd.isnull(row['Location Description']) else row['Location Description'], \n",
    "#     axis=1\n",
    "# )\n"
   ]
  },
  {
   "cell_type": "code",
   "execution_count": 35,
   "metadata": {},
   "outputs": [
    {
     "data": {
      "text/plain": [
       "Block\n",
       "0000X E 100 PL                                           [18, 17, 6, 2, 1]\n",
       "0000X E 100 ST                             [21, 9, 4, 3, 2, 1, 1, 1, 1, 1]\n",
       "0000X E 100TH PL         [187, 179, 94, 28, 27, 20, 14, 8, 6, 5, 5, 4, ...\n",
       "0000X E 100TH ST         [170, 143, 61, 38, 24, 18, 8, 6, 5, 5, 3, 3, 2...\n",
       "0000X E 101 PL                                                   [6, 3, 1]\n",
       "                                               ...                        \n",
       "139XX S ATLANTIC                                                         1\n",
       "145XX S MINERVA                                                          1\n",
       "173XX  LORENZ                                                            1\n",
       "175XX S SANDALWOOD DR                                                    1\n",
       "XX  UNKNOWN                                                         [1, 1]\n",
       "Name: Location Description, Length: 64181, dtype: object"
      ]
     },
     "execution_count": 35,
     "metadata": {},
     "output_type": "execute_result"
    }
   ],
   "source": [
    "block_location_mapping"
   ]
  },
  {
   "cell_type": "code",
   "execution_count": 36,
   "metadata": {},
   "outputs": [
    {
     "name": "stdout",
     "output_type": "stream",
     "text": [
      "                  Block  list_length\n",
      "0     0000X W WACKER DR           17\n",
      "1  023XX N LOCKWOOD AVE           20\n",
      "2   055XX S ROCKWELL ST           19\n",
      "3    045XX N ALBANY AVE           18\n",
      "4   087XX S SANGAMON ST           19\n"
     ]
    }
   ],
   "source": [
    "# Check length of lists for each block\n",
    "df['list_length'] = df['Block'].apply(lambda x: len(x))\n",
    "print(df[['Block', 'list_length']].head())\n"
   ]
  },
  {
   "cell_type": "code",
   "execution_count": 37,
   "metadata": {},
   "outputs": [
    {
     "name": "stdout",
     "output_type": "stream",
     "text": [
      "                  Block  total_counts\n",
      "0     0000X W WACKER DR             0\n",
      "1  023XX N LOCKWOOD AVE             0\n",
      "2   055XX S ROCKWELL ST             0\n",
      "3    045XX N ALBANY AVE             0\n",
      "4   087XX S SANGAMON ST             0\n"
     ]
    }
   ],
   "source": [
    "# Sum the counts in each list for each block\n",
    "df['total_counts'] = df['Block'].apply(lambda x: sum(x) if isinstance(x, list) else 0)\n",
    "print(df[['Block', 'total_counts']].head())\n"
   ]
  },
  {
   "cell_type": "code",
   "execution_count": null,
   "metadata": {},
   "outputs": [],
   "source": []
  }
 ],
 "metadata": {
  "kernelspec": {
   "display_name": "Python 3",
   "language": "python",
   "name": "python3"
  },
  "language_info": {
   "codemirror_mode": {
    "name": "ipython",
    "version": 3
   },
   "file_extension": ".py",
   "mimetype": "text/x-python",
   "name": "python",
   "nbconvert_exporter": "python",
   "pygments_lexer": "ipython3",
   "version": "3.11.7"
  }
 },
 "nbformat": 4,
 "nbformat_minor": 2
}
