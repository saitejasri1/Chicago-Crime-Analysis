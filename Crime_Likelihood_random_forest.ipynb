{
  "nbformat": 4,
  "nbformat_minor": 0,
  "metadata": {
    "colab": {
      "provenance": [],
      "machine_shape": "hm"
    },
    "kernelspec": {
      "name": "python3",
      "display_name": "Python 3"
    },
    "language_info": {
      "name": "python"
    }
  },
  "cells": [
    {
      "cell_type": "code",
      "execution_count": 2,
      "metadata": {
        "id": "-JjjgqtGjmZm",
        "colab": {
          "base_uri": "https://localhost:8080/"
        },
        "outputId": "6337d80e-c1e1-48cc-a42d-674d2e96e927"
      },
      "outputs": [
        {
          "output_type": "stream",
          "name": "stdout",
          "text": [
            "GPU Available: False\n",
            "GPU Name: None\n"
          ]
        }
      ],
      "source": [
        "# Verify GPU availability\n",
        "import torch\n",
        "print(f\"GPU Available: {torch.cuda.is_available()}\")\n",
        "print(f\"GPU Name: {torch.cuda.get_device_name(0) if torch.cuda.is_available() else 'None'}\")\n"
      ]
    },
    {
      "cell_type": "code",
      "source": [
        "import multiprocessing\n",
        "print(\"Number of CPU cores available:\", multiprocessing.cpu_count())\n"
      ],
      "metadata": {
        "colab": {
          "base_uri": "https://localhost:8080/"
        },
        "id": "KStZH4Xl9fO0",
        "outputId": "cc2f9a36-87d4-4b3a-a067-3c707b108bca"
      },
      "execution_count": 3,
      "outputs": [
        {
          "output_type": "stream",
          "name": "stdout",
          "text": [
            "Number of CPU cores available: 8\n"
          ]
        }
      ]
    },
    {
      "cell_type": "code",
      "source": [
        "import pandas as pd\n",
        "import numpy as np\n",
        "from sklearn.ensemble import RandomForestClassifier\n",
        "from sklearn.feature_selection import mutual_info_classif\n",
        "from sklearn.decomposition import PCA\n",
        "from sklearn.cluster import KMeans\n",
        "from sklearn.model_selection import train_test_split, cross_val_score\n",
        "from sklearn.metrics import accuracy_score, classification_report\n",
        "import matplotlib.pyplot as plt\n",
        "import seaborn as sns\n",
        "from sklearn.preprocessing import LabelEncoder, StandardScaler"
      ],
      "metadata": {
        "id": "akHA1RDpeime"
      },
      "execution_count": 4,
      "outputs": []
    },
    {
      "cell_type": "code",
      "source": [
        "import pandas as pd\n",
        "file_path = \"/content/crime2017-2024.csv\"\n",
        "data = pd.read_csv(file_path)"
      ],
      "metadata": {
        "id": "FmYuGstp1UPB"
      },
      "execution_count": 5,
      "outputs": []
    },
    {
      "cell_type": "code",
      "source": [
        "data.shape"
      ],
      "metadata": {
        "colab": {
          "base_uri": "https://localhost:8080/"
        },
        "id": "Sh-xUvT7U0-n",
        "outputId": "c2f9cba9-2571-4b01-b449-06eebadfbbdf"
      },
      "execution_count": 6,
      "outputs": [
        {
          "output_type": "execute_result",
          "data": {
            "text/plain": [
              "(1873724, 28)"
            ]
          },
          "metadata": {},
          "execution_count": 6
        }
      ]
    },
    {
      "cell_type": "code",
      "source": [
        "data.describe()"
      ],
      "metadata": {
        "colab": {
          "base_uri": "https://localhost:8080/",
          "height": 338
        },
        "id": "Diq5Ng_07yY_",
        "outputId": "0946bc70-caa6-4f80-c1df-e55422d19ddc"
      },
      "execution_count": 7,
      "outputs": [
        {
          "output_type": "execute_result",
          "data": {
            "text/plain": [
              "                 ID          Beat      District          Ward  Community Area  \\\n",
              "count  1.873724e+06  1.873724e+06  1.873724e+06  1.873724e+06    1.873724e+06   \n",
              "mean   1.215516e+07  1.147337e+03  1.124433e+01  2.321368e+01    3.664712e+01   \n",
              "std    1.028359e+06  7.018405e+02  7.012646e+00  1.399502e+01    2.151354e+01   \n",
              "min    2.305900e+04  1.110000e+02  1.000000e+00  1.000000e+00    1.000000e+00   \n",
              "25%    1.146572e+07  6.110000e+02  6.000000e+00  1.000000e+01    2.300000e+01   \n",
              "50%    1.216674e+07  1.031000e+03  1.000000e+01  2.400000e+01    3.200000e+01   \n",
              "75%    1.289810e+07  1.723000e+03  1.700000e+01  3.400000e+01    5.300000e+01   \n",
              "max    1.359903e+07  2.535000e+03  3.100000e+01  5.000000e+01    7.700000e+01   \n",
              "\n",
              "               Year      Latitude     Longitude          Hour   Day_of_Week  \\\n",
              "count  1.873724e+06  1.873724e+06  1.873724e+06  1.873724e+06  1.873724e+06   \n",
              "mean   2.020315e+03  4.184437e+01 -8.766956e+01  1.280075e+01  3.014927e+00   \n",
              "std    2.294717e+00  8.679418e-02  5.916682e-02  6.729624e+00  2.000023e+00   \n",
              "min    2.017000e+03  4.164459e+01 -8.793973e+01  0.000000e+00  0.000000e+00   \n",
              "25%    2.018000e+03  4.176885e+01 -8.771164e+01  8.000000e+00  1.000000e+00   \n",
              "50%    2.020000e+03  4.186290e+01 -8.766303e+01  1.400000e+01  3.000000e+00   \n",
              "75%    2.022000e+03  4.190706e+01 -8.762742e+01  1.800000e+01  5.000000e+00   \n",
              "max    2.024000e+03  4.202267e+01 -8.752453e+01  2.300000e+01  6.000000e+00   \n",
              "\n",
              "              Month    Is_Weekend           ZIP  Encoded_Crime_Type  \\\n",
              "count  1.873724e+06  1.873724e+06  1.873724e+06        1.873724e+06   \n",
              "mean   6.447097e+00  2.878791e-01  6.063012e+04        4.379877e+00   \n",
              "std    3.326482e+00  4.527746e-01  2.118626e+01        2.025574e+00   \n",
              "min    1.000000e+00  0.000000e+00  6.060100e+04        0.000000e+00   \n",
              "25%    4.000000e+00  0.000000e+00  6.061700e+04        3.000000e+00   \n",
              "50%    6.000000e+00  0.000000e+00  6.062600e+04        3.000000e+00   \n",
              "75%    9.000000e+00  1.000000e+00  6.064200e+04        7.000000e+00   \n",
              "max    1.200000e+01  1.000000e+00  6.082700e+04        7.000000e+00   \n",
              "\n",
              "       Encoded_Crime_Severity  \n",
              "count            1.873724e+06  \n",
              "mean             1.211313e+00  \n",
              "std              9.423750e-01  \n",
              "min              0.000000e+00  \n",
              "25%              0.000000e+00  \n",
              "50%              2.000000e+00  \n",
              "75%              2.000000e+00  \n",
              "max              2.000000e+00  "
            ],
            "text/html": [
              "\n",
              "  <div id=\"df-6fda1a15-2f35-4ce7-9bc4-7b68a17066c2\" class=\"colab-df-container\">\n",
              "    <div>\n",
              "<style scoped>\n",
              "    .dataframe tbody tr th:only-of-type {\n",
              "        vertical-align: middle;\n",
              "    }\n",
              "\n",
              "    .dataframe tbody tr th {\n",
              "        vertical-align: top;\n",
              "    }\n",
              "\n",
              "    .dataframe thead th {\n",
              "        text-align: right;\n",
              "    }\n",
              "</style>\n",
              "<table border=\"1\" class=\"dataframe\">\n",
              "  <thead>\n",
              "    <tr style=\"text-align: right;\">\n",
              "      <th></th>\n",
              "      <th>ID</th>\n",
              "      <th>Beat</th>\n",
              "      <th>District</th>\n",
              "      <th>Ward</th>\n",
              "      <th>Community Area</th>\n",
              "      <th>Year</th>\n",
              "      <th>Latitude</th>\n",
              "      <th>Longitude</th>\n",
              "      <th>Hour</th>\n",
              "      <th>Day_of_Week</th>\n",
              "      <th>Month</th>\n",
              "      <th>Is_Weekend</th>\n",
              "      <th>ZIP</th>\n",
              "      <th>Encoded_Crime_Type</th>\n",
              "      <th>Encoded_Crime_Severity</th>\n",
              "    </tr>\n",
              "  </thead>\n",
              "  <tbody>\n",
              "    <tr>\n",
              "      <th>count</th>\n",
              "      <td>1.873724e+06</td>\n",
              "      <td>1.873724e+06</td>\n",
              "      <td>1.873724e+06</td>\n",
              "      <td>1.873724e+06</td>\n",
              "      <td>1.873724e+06</td>\n",
              "      <td>1.873724e+06</td>\n",
              "      <td>1.873724e+06</td>\n",
              "      <td>1.873724e+06</td>\n",
              "      <td>1.873724e+06</td>\n",
              "      <td>1.873724e+06</td>\n",
              "      <td>1.873724e+06</td>\n",
              "      <td>1.873724e+06</td>\n",
              "      <td>1.873724e+06</td>\n",
              "      <td>1.873724e+06</td>\n",
              "      <td>1.873724e+06</td>\n",
              "    </tr>\n",
              "    <tr>\n",
              "      <th>mean</th>\n",
              "      <td>1.215516e+07</td>\n",
              "      <td>1.147337e+03</td>\n",
              "      <td>1.124433e+01</td>\n",
              "      <td>2.321368e+01</td>\n",
              "      <td>3.664712e+01</td>\n",
              "      <td>2.020315e+03</td>\n",
              "      <td>4.184437e+01</td>\n",
              "      <td>-8.766956e+01</td>\n",
              "      <td>1.280075e+01</td>\n",
              "      <td>3.014927e+00</td>\n",
              "      <td>6.447097e+00</td>\n",
              "      <td>2.878791e-01</td>\n",
              "      <td>6.063012e+04</td>\n",
              "      <td>4.379877e+00</td>\n",
              "      <td>1.211313e+00</td>\n",
              "    </tr>\n",
              "    <tr>\n",
              "      <th>std</th>\n",
              "      <td>1.028359e+06</td>\n",
              "      <td>7.018405e+02</td>\n",
              "      <td>7.012646e+00</td>\n",
              "      <td>1.399502e+01</td>\n",
              "      <td>2.151354e+01</td>\n",
              "      <td>2.294717e+00</td>\n",
              "      <td>8.679418e-02</td>\n",
              "      <td>5.916682e-02</td>\n",
              "      <td>6.729624e+00</td>\n",
              "      <td>2.000023e+00</td>\n",
              "      <td>3.326482e+00</td>\n",
              "      <td>4.527746e-01</td>\n",
              "      <td>2.118626e+01</td>\n",
              "      <td>2.025574e+00</td>\n",
              "      <td>9.423750e-01</td>\n",
              "    </tr>\n",
              "    <tr>\n",
              "      <th>min</th>\n",
              "      <td>2.305900e+04</td>\n",
              "      <td>1.110000e+02</td>\n",
              "      <td>1.000000e+00</td>\n",
              "      <td>1.000000e+00</td>\n",
              "      <td>1.000000e+00</td>\n",
              "      <td>2.017000e+03</td>\n",
              "      <td>4.164459e+01</td>\n",
              "      <td>-8.793973e+01</td>\n",
              "      <td>0.000000e+00</td>\n",
              "      <td>0.000000e+00</td>\n",
              "      <td>1.000000e+00</td>\n",
              "      <td>0.000000e+00</td>\n",
              "      <td>6.060100e+04</td>\n",
              "      <td>0.000000e+00</td>\n",
              "      <td>0.000000e+00</td>\n",
              "    </tr>\n",
              "    <tr>\n",
              "      <th>25%</th>\n",
              "      <td>1.146572e+07</td>\n",
              "      <td>6.110000e+02</td>\n",
              "      <td>6.000000e+00</td>\n",
              "      <td>1.000000e+01</td>\n",
              "      <td>2.300000e+01</td>\n",
              "      <td>2.018000e+03</td>\n",
              "      <td>4.176885e+01</td>\n",
              "      <td>-8.771164e+01</td>\n",
              "      <td>8.000000e+00</td>\n",
              "      <td>1.000000e+00</td>\n",
              "      <td>4.000000e+00</td>\n",
              "      <td>0.000000e+00</td>\n",
              "      <td>6.061700e+04</td>\n",
              "      <td>3.000000e+00</td>\n",
              "      <td>0.000000e+00</td>\n",
              "    </tr>\n",
              "    <tr>\n",
              "      <th>50%</th>\n",
              "      <td>1.216674e+07</td>\n",
              "      <td>1.031000e+03</td>\n",
              "      <td>1.000000e+01</td>\n",
              "      <td>2.400000e+01</td>\n",
              "      <td>3.200000e+01</td>\n",
              "      <td>2.020000e+03</td>\n",
              "      <td>4.186290e+01</td>\n",
              "      <td>-8.766303e+01</td>\n",
              "      <td>1.400000e+01</td>\n",
              "      <td>3.000000e+00</td>\n",
              "      <td>6.000000e+00</td>\n",
              "      <td>0.000000e+00</td>\n",
              "      <td>6.062600e+04</td>\n",
              "      <td>3.000000e+00</td>\n",
              "      <td>2.000000e+00</td>\n",
              "    </tr>\n",
              "    <tr>\n",
              "      <th>75%</th>\n",
              "      <td>1.289810e+07</td>\n",
              "      <td>1.723000e+03</td>\n",
              "      <td>1.700000e+01</td>\n",
              "      <td>3.400000e+01</td>\n",
              "      <td>5.300000e+01</td>\n",
              "      <td>2.022000e+03</td>\n",
              "      <td>4.190706e+01</td>\n",
              "      <td>-8.762742e+01</td>\n",
              "      <td>1.800000e+01</td>\n",
              "      <td>5.000000e+00</td>\n",
              "      <td>9.000000e+00</td>\n",
              "      <td>1.000000e+00</td>\n",
              "      <td>6.064200e+04</td>\n",
              "      <td>7.000000e+00</td>\n",
              "      <td>2.000000e+00</td>\n",
              "    </tr>\n",
              "    <tr>\n",
              "      <th>max</th>\n",
              "      <td>1.359903e+07</td>\n",
              "      <td>2.535000e+03</td>\n",
              "      <td>3.100000e+01</td>\n",
              "      <td>5.000000e+01</td>\n",
              "      <td>7.700000e+01</td>\n",
              "      <td>2.024000e+03</td>\n",
              "      <td>4.202267e+01</td>\n",
              "      <td>-8.752453e+01</td>\n",
              "      <td>2.300000e+01</td>\n",
              "      <td>6.000000e+00</td>\n",
              "      <td>1.200000e+01</td>\n",
              "      <td>1.000000e+00</td>\n",
              "      <td>6.082700e+04</td>\n",
              "      <td>7.000000e+00</td>\n",
              "      <td>2.000000e+00</td>\n",
              "    </tr>\n",
              "  </tbody>\n",
              "</table>\n",
              "</div>\n",
              "    <div class=\"colab-df-buttons\">\n",
              "\n",
              "  <div class=\"colab-df-container\">\n",
              "    <button class=\"colab-df-convert\" onclick=\"convertToInteractive('df-6fda1a15-2f35-4ce7-9bc4-7b68a17066c2')\"\n",
              "            title=\"Convert this dataframe to an interactive table.\"\n",
              "            style=\"display:none;\">\n",
              "\n",
              "  <svg xmlns=\"http://www.w3.org/2000/svg\" height=\"24px\" viewBox=\"0 -960 960 960\">\n",
              "    <path d=\"M120-120v-720h720v720H120Zm60-500h600v-160H180v160Zm220 220h160v-160H400v160Zm0 220h160v-160H400v160ZM180-400h160v-160H180v160Zm440 0h160v-160H620v160ZM180-180h160v-160H180v160Zm440 0h160v-160H620v160Z\"/>\n",
              "  </svg>\n",
              "    </button>\n",
              "\n",
              "  <style>\n",
              "    .colab-df-container {\n",
              "      display:flex;\n",
              "      gap: 12px;\n",
              "    }\n",
              "\n",
              "    .colab-df-convert {\n",
              "      background-color: #E8F0FE;\n",
              "      border: none;\n",
              "      border-radius: 50%;\n",
              "      cursor: pointer;\n",
              "      display: none;\n",
              "      fill: #1967D2;\n",
              "      height: 32px;\n",
              "      padding: 0 0 0 0;\n",
              "      width: 32px;\n",
              "    }\n",
              "\n",
              "    .colab-df-convert:hover {\n",
              "      background-color: #E2EBFA;\n",
              "      box-shadow: 0px 1px 2px rgba(60, 64, 67, 0.3), 0px 1px 3px 1px rgba(60, 64, 67, 0.15);\n",
              "      fill: #174EA6;\n",
              "    }\n",
              "\n",
              "    .colab-df-buttons div {\n",
              "      margin-bottom: 4px;\n",
              "    }\n",
              "\n",
              "    [theme=dark] .colab-df-convert {\n",
              "      background-color: #3B4455;\n",
              "      fill: #D2E3FC;\n",
              "    }\n",
              "\n",
              "    [theme=dark] .colab-df-convert:hover {\n",
              "      background-color: #434B5C;\n",
              "      box-shadow: 0px 1px 3px 1px rgba(0, 0, 0, 0.15);\n",
              "      filter: drop-shadow(0px 1px 2px rgba(0, 0, 0, 0.3));\n",
              "      fill: #FFFFFF;\n",
              "    }\n",
              "  </style>\n",
              "\n",
              "    <script>\n",
              "      const buttonEl =\n",
              "        document.querySelector('#df-6fda1a15-2f35-4ce7-9bc4-7b68a17066c2 button.colab-df-convert');\n",
              "      buttonEl.style.display =\n",
              "        google.colab.kernel.accessAllowed ? 'block' : 'none';\n",
              "\n",
              "      async function convertToInteractive(key) {\n",
              "        const element = document.querySelector('#df-6fda1a15-2f35-4ce7-9bc4-7b68a17066c2');\n",
              "        const dataTable =\n",
              "          await google.colab.kernel.invokeFunction('convertToInteractive',\n",
              "                                                    [key], {});\n",
              "        if (!dataTable) return;\n",
              "\n",
              "        const docLinkHtml = 'Like what you see? Visit the ' +\n",
              "          '<a target=\"_blank\" href=https://colab.research.google.com/notebooks/data_table.ipynb>data table notebook</a>'\n",
              "          + ' to learn more about interactive tables.';\n",
              "        element.innerHTML = '';\n",
              "        dataTable['output_type'] = 'display_data';\n",
              "        await google.colab.output.renderOutput(dataTable, element);\n",
              "        const docLink = document.createElement('div');\n",
              "        docLink.innerHTML = docLinkHtml;\n",
              "        element.appendChild(docLink);\n",
              "      }\n",
              "    </script>\n",
              "  </div>\n",
              "\n",
              "\n",
              "<div id=\"df-d6a6d91b-3ce0-4f18-b9cd-41990bb62722\">\n",
              "  <button class=\"colab-df-quickchart\" onclick=\"quickchart('df-d6a6d91b-3ce0-4f18-b9cd-41990bb62722')\"\n",
              "            title=\"Suggest charts\"\n",
              "            style=\"display:none;\">\n",
              "\n",
              "<svg xmlns=\"http://www.w3.org/2000/svg\" height=\"24px\"viewBox=\"0 0 24 24\"\n",
              "     width=\"24px\">\n",
              "    <g>\n",
              "        <path d=\"M19 3H5c-1.1 0-2 .9-2 2v14c0 1.1.9 2 2 2h14c1.1 0 2-.9 2-2V5c0-1.1-.9-2-2-2zM9 17H7v-7h2v7zm4 0h-2V7h2v10zm4 0h-2v-4h2v4z\"/>\n",
              "    </g>\n",
              "</svg>\n",
              "  </button>\n",
              "\n",
              "<style>\n",
              "  .colab-df-quickchart {\n",
              "      --bg-color: #E8F0FE;\n",
              "      --fill-color: #1967D2;\n",
              "      --hover-bg-color: #E2EBFA;\n",
              "      --hover-fill-color: #174EA6;\n",
              "      --disabled-fill-color: #AAA;\n",
              "      --disabled-bg-color: #DDD;\n",
              "  }\n",
              "\n",
              "  [theme=dark] .colab-df-quickchart {\n",
              "      --bg-color: #3B4455;\n",
              "      --fill-color: #D2E3FC;\n",
              "      --hover-bg-color: #434B5C;\n",
              "      --hover-fill-color: #FFFFFF;\n",
              "      --disabled-bg-color: #3B4455;\n",
              "      --disabled-fill-color: #666;\n",
              "  }\n",
              "\n",
              "  .colab-df-quickchart {\n",
              "    background-color: var(--bg-color);\n",
              "    border: none;\n",
              "    border-radius: 50%;\n",
              "    cursor: pointer;\n",
              "    display: none;\n",
              "    fill: var(--fill-color);\n",
              "    height: 32px;\n",
              "    padding: 0;\n",
              "    width: 32px;\n",
              "  }\n",
              "\n",
              "  .colab-df-quickchart:hover {\n",
              "    background-color: var(--hover-bg-color);\n",
              "    box-shadow: 0 1px 2px rgba(60, 64, 67, 0.3), 0 1px 3px 1px rgba(60, 64, 67, 0.15);\n",
              "    fill: var(--button-hover-fill-color);\n",
              "  }\n",
              "\n",
              "  .colab-df-quickchart-complete:disabled,\n",
              "  .colab-df-quickchart-complete:disabled:hover {\n",
              "    background-color: var(--disabled-bg-color);\n",
              "    fill: var(--disabled-fill-color);\n",
              "    box-shadow: none;\n",
              "  }\n",
              "\n",
              "  .colab-df-spinner {\n",
              "    border: 2px solid var(--fill-color);\n",
              "    border-color: transparent;\n",
              "    border-bottom-color: var(--fill-color);\n",
              "    animation:\n",
              "      spin 1s steps(1) infinite;\n",
              "  }\n",
              "\n",
              "  @keyframes spin {\n",
              "    0% {\n",
              "      border-color: transparent;\n",
              "      border-bottom-color: var(--fill-color);\n",
              "      border-left-color: var(--fill-color);\n",
              "    }\n",
              "    20% {\n",
              "      border-color: transparent;\n",
              "      border-left-color: var(--fill-color);\n",
              "      border-top-color: var(--fill-color);\n",
              "    }\n",
              "    30% {\n",
              "      border-color: transparent;\n",
              "      border-left-color: var(--fill-color);\n",
              "      border-top-color: var(--fill-color);\n",
              "      border-right-color: var(--fill-color);\n",
              "    }\n",
              "    40% {\n",
              "      border-color: transparent;\n",
              "      border-right-color: var(--fill-color);\n",
              "      border-top-color: var(--fill-color);\n",
              "    }\n",
              "    60% {\n",
              "      border-color: transparent;\n",
              "      border-right-color: var(--fill-color);\n",
              "    }\n",
              "    80% {\n",
              "      border-color: transparent;\n",
              "      border-right-color: var(--fill-color);\n",
              "      border-bottom-color: var(--fill-color);\n",
              "    }\n",
              "    90% {\n",
              "      border-color: transparent;\n",
              "      border-bottom-color: var(--fill-color);\n",
              "    }\n",
              "  }\n",
              "</style>\n",
              "\n",
              "  <script>\n",
              "    async function quickchart(key) {\n",
              "      const quickchartButtonEl =\n",
              "        document.querySelector('#' + key + ' button');\n",
              "      quickchartButtonEl.disabled = true;  // To prevent multiple clicks.\n",
              "      quickchartButtonEl.classList.add('colab-df-spinner');\n",
              "      try {\n",
              "        const charts = await google.colab.kernel.invokeFunction(\n",
              "            'suggestCharts', [key], {});\n",
              "      } catch (error) {\n",
              "        console.error('Error during call to suggestCharts:', error);\n",
              "      }\n",
              "      quickchartButtonEl.classList.remove('colab-df-spinner');\n",
              "      quickchartButtonEl.classList.add('colab-df-quickchart-complete');\n",
              "    }\n",
              "    (() => {\n",
              "      let quickchartButtonEl =\n",
              "        document.querySelector('#df-d6a6d91b-3ce0-4f18-b9cd-41990bb62722 button');\n",
              "      quickchartButtonEl.style.display =\n",
              "        google.colab.kernel.accessAllowed ? 'block' : 'none';\n",
              "    })();\n",
              "  </script>\n",
              "</div>\n",
              "\n",
              "    </div>\n",
              "  </div>\n"
            ],
            "application/vnd.google.colaboratory.intrinsic+json": {
              "type": "dataframe",
              "summary": "{\n  \"name\": \"data\",\n  \"rows\": 8,\n  \"fields\": [\n    {\n      \"column\": \"ID\",\n      \"properties\": {\n        \"dtype\": \"number\",\n        \"std\": 5994789.786917523,\n        \"min\": 23059.0,\n        \"max\": 13599034.0,\n        \"num_unique_values\": 8,\n        \"samples\": [\n          12155159.572012207,\n          12166740.5,\n          1873724.0\n        ],\n        \"semantic_type\": \"\",\n        \"description\": \"\"\n      }\n    },\n    {\n      \"column\": \"Beat\",\n      \"properties\": {\n        \"dtype\": \"number\",\n        \"std\": 662064.8871659462,\n        \"min\": 111.0,\n        \"max\": 1873724.0,\n        \"num_unique_values\": 8,\n        \"samples\": [\n          1147.3366226829564,\n          1031.0,\n          1873724.0\n        ],\n        \"semantic_type\": \"\",\n        \"description\": \"\"\n      }\n    },\n    {\n      \"column\": \"District\",\n      \"properties\": {\n        \"dtype\": \"number\",\n        \"std\": 662457.2681856626,\n        \"min\": 1.0,\n        \"max\": 1873724.0,\n        \"num_unique_values\": 8,\n        \"samples\": [\n          11.24432520477936,\n          10.0,\n          1873724.0\n        ],\n        \"semantic_type\": \"\",\n        \"description\": \"\"\n      }\n    },\n    {\n      \"column\": \"Ward\",\n      \"properties\": {\n        \"dtype\": \"number\",\n        \"std\": 662453.5836761006,\n        \"min\": 1.0,\n        \"max\": 1873724.0,\n        \"num_unique_values\": 8,\n        \"samples\": [\n          23.21367661405842,\n          24.0,\n          1873724.0\n        ],\n        \"semantic_type\": \"\",\n        \"description\": \"\"\n      }\n    },\n    {\n      \"column\": \"Community Area\",\n      \"properties\": {\n        \"dtype\": \"number\",\n        \"std\": 662449.1416466627,\n        \"min\": 1.0,\n        \"max\": 1873724.0,\n        \"num_unique_values\": 8,\n        \"samples\": [\n          36.64711771851137,\n          32.0,\n          1873724.0\n        ],\n        \"semantic_type\": \"\",\n        \"description\": \"\"\n      }\n    },\n    {\n      \"column\": \"Year\",\n      \"properties\": {\n        \"dtype\": \"number\",\n        \"std\": 661849.5151404542,\n        \"min\": 2.2947168282502233,\n        \"max\": 1873724.0,\n        \"num_unique_values\": 8,\n        \"samples\": [\n          2020.3154301273828,\n          2020.0,\n          1873724.0\n        ],\n        \"semantic_type\": \"\",\n        \"description\": \"\"\n      }\n    },\n    {\n      \"column\": \"Latitude\",\n      \"properties\": {\n        \"dtype\": \"number\",\n        \"std\": 662448.7890515715,\n        \"min\": 0.08679418130766518,\n        \"max\": 1873724.0,\n        \"num_unique_values\": 8,\n        \"samples\": [\n          41.84436881670014,\n          41.862895799,\n          1873724.0\n        ],\n        \"semantic_type\": \"\",\n        \"description\": \"\"\n      }\n    },\n    {\n      \"column\": \"Longitude\",\n      \"properties\": {\n        \"dtype\": \"number\",\n        \"std\": 662488.0448360214,\n        \"min\": -87.939732936,\n        \"max\": 1873724.0,\n        \"num_unique_values\": 8,\n        \"samples\": [\n          -87.66956052817048,\n          -87.663032888,\n          1873724.0\n        ],\n        \"semantic_type\": \"\",\n        \"description\": \"\"\n      }\n    },\n    {\n      \"column\": \"Hour\",\n      \"properties\": {\n        \"dtype\": \"number\",\n        \"std\": 662457.3048601331,\n        \"min\": 0.0,\n        \"max\": 1873724.0,\n        \"num_unique_values\": 8,\n        \"samples\": [\n          12.800752405370268,\n          14.0,\n          1873724.0\n        ],\n        \"semantic_type\": \"\",\n        \"description\": \"\"\n      }\n    },\n    {\n      \"column\": \"Day_of_Week\",\n      \"properties\": {\n        \"dtype\": \"number\",\n        \"std\": 662460.462331262,\n        \"min\": 0.0,\n        \"max\": 1873724.0,\n        \"num_unique_values\": 8,\n        \"samples\": [\n          3.0149269582926834,\n          3.0,\n          1873724.0\n        ],\n        \"semantic_type\": \"\",\n        \"description\": \"\"\n      }\n    },\n    {\n      \"column\": \"Month\",\n      \"properties\": {\n        \"dtype\": \"number\",\n        \"std\": 662459.3633603972,\n        \"min\": 1.0,\n        \"max\": 1873724.0,\n        \"num_unique_values\": 8,\n        \"samples\": [\n          6.447097331303864,\n          6.0,\n          1873724.0\n        ],\n        \"semantic_type\": \"\",\n        \"description\": \"\"\n      }\n    },\n    {\n      \"column\": \"Is_Weekend\",\n      \"properties\": {\n        \"dtype\": \"number\",\n        \"std\": 662461.3348122064,\n        \"min\": 0.0,\n        \"max\": 1873724.0,\n        \"num_unique_values\": 5,\n        \"samples\": [\n          0.2878791113312313,\n          1.0,\n          0.452774599545377\n        ],\n        \"semantic_type\": \"\",\n        \"description\": \"\"\n      }\n    },\n    {\n      \"column\": \"ZIP\",\n      \"properties\": {\n        \"dtype\": \"number\",\n        \"std\": 644427.9091850372,\n        \"min\": 21.186258735078372,\n        \"max\": 1873724.0,\n        \"num_unique_values\": 8,\n        \"samples\": [\n          60630.11882006101,\n          60626.0,\n          1873724.0\n        ],\n        \"semantic_type\": \"\",\n        \"description\": \"\"\n      }\n    },\n    {\n      \"column\": \"Encoded_Crime_Type\",\n      \"properties\": {\n        \"dtype\": \"number\",\n        \"std\": 662460.139563611,\n        \"min\": 0.0,\n        \"max\": 1873724.0,\n        \"num_unique_values\": 6,\n        \"samples\": [\n          1873724.0,\n          4.379876652057614,\n          7.0\n        ],\n        \"semantic_type\": \"\",\n        \"description\": \"\"\n      }\n    },\n    {\n      \"column\": \"Encoded_Crime_Severity\",\n      \"properties\": {\n        \"dtype\": \"number\",\n        \"std\": 662461.0614130879,\n        \"min\": 0.0,\n        \"max\": 1873724.0,\n        \"num_unique_values\": 5,\n        \"samples\": [\n          1.2113128721199067,\n          2.0,\n          0.9423749925951735\n        ],\n        \"semantic_type\": \"\",\n        \"description\": \"\"\n      }\n    }\n  ]\n}"
            }
          },
          "metadata": {},
          "execution_count": 7
        }
      ]
    },
    {
      "cell_type": "code",
      "source": [
        "print(data.shape, data.columns)"
      ],
      "metadata": {
        "colab": {
          "base_uri": "https://localhost:8080/"
        },
        "id": "ChV2QexlFNEP",
        "outputId": "bd2d4323-e805-408f-cfe4-020ef285b80e"
      },
      "execution_count": 8,
      "outputs": [
        {
          "output_type": "stream",
          "name": "stdout",
          "text": [
            "(1873724, 28) Index(['ID', 'Case Number', 'Date', 'Block', 'IUCR', 'Primary Type',\n",
            "       'Description', 'Arrest', 'Domestic', 'Beat', 'District', 'Ward',\n",
            "       'Community Area', 'FBI Code', 'Year', 'Updated On', 'Latitude',\n",
            "       'Longitude', 'Hour', 'Day_of_Week', 'Month', 'Is_Weekend',\n",
            "       'Time_of_Day', 'ZIP', 'Consolidated_Type', 'Encoded_Crime_Type',\n",
            "       'Crime_Severity', 'Encoded_Crime_Severity'],\n",
            "      dtype='object')\n"
          ]
        }
      ]
    },
    {
      "cell_type": "markdown",
      "source": [
        "## Predictive Modeling _ crime Likelihood"
      ],
      "metadata": {
        "id": "etxuq0lpHRn8"
      }
    },
    {
      "cell_type": "code",
      "source": [
        "# Define group columns for spatial and temporal aggregation\n",
        "group_cols = ['ZIP', 'Hour', 'Day_of_Week', 'Month']\n",
        "\n",
        "# Create crime count as a proxy for likelihood\n",
        "data['Crime_Count'] = data.groupby(group_cols)['ID'].transform('count')\n",
        "\n",
        "# Optional: Create a binary likelihood target\n",
        "threshold = data['Crime_Count'].mean()  # Use the mean count as a threshold\n",
        "data['Crime_Likelihood'] = (data['Crime_Count'] > threshold).astype(int)\n",
        "\n",
        "# Use 'Crime_Likelihood' as the new target\n",
        "target = 'Crime_Likelihood'\n"
      ],
      "metadata": {
        "id": "OJ0ZWsKydLJz"
      },
      "execution_count": 9,
      "outputs": []
    },
    {
      "cell_type": "code",
      "source": [
        "from sklearn.linear_model import LogisticRegression\n",
        "from xgboost import XGBClassifier\n",
        "from sklearn.metrics import accuracy_score, classification_report\n",
        "from sklearn.model_selection import train_test_split, cross_val_score\n",
        "# Ensure all features are numeric and properly encoded\n",
        "categorical_cols = ['FBI Code', 'Primary Type', 'Description', 'Time_of_Day', 'Consolidated_Type', 'Crime_Severity']\n",
        "for col in categorical_cols:\n",
        "    data[col] = data[col].astype(str)  # Ensure all values are strings\n",
        "    le = LabelEncoder()\n",
        "    data[col] = le.fit_transform(data[col])  # Encode strings to numeric\n",
        "\n",
        "# Drop irrelevant or redundant features\n",
        "drop_cols = ['Case Number', 'Block', 'Date', 'Updated On']  # Adjust as needed\n",
        "data = data.drop(columns=drop_cols)\n",
        "\n",
        "# Convert boolean features to integers\n",
        "data['Arrest'] = data['Arrest'].astype(int)\n",
        "data['Domestic'] = data['Domestic'].astype(int)"
      ],
      "metadata": {
        "id": "gchUZL-czYMy"
      },
      "execution_count": 10,
      "outputs": []
    },
    {
      "cell_type": "code",
      "source": [
        "# from sklearn.linear_model import LogisticRegression\n",
        "# from xgboost import XGBClassifier\n",
        "# from sklearn.metrics import accuracy_score, classification_report\n",
        "# from sklearn.model_selection import train_test_split, cross_val_score\n",
        "# # Ensure all features are numeric and properly encoded\n",
        "# categorical_cols = ['FBI Code', 'Primary Type', 'Description', 'Time_of_Day', 'Consolidated_Type', 'Crime_Severity']\n",
        "# for col in categorical_cols:\n",
        "#     data[col] = data[col].astype(str)  # Ensure all values are strings\n",
        "#     le = LabelEncoder()\n",
        "#     data[col] = le.fit_transform(data[col])  # Encode strings to numeric\n",
        "\n",
        "# # Drop irrelevant or redundant features\n",
        "# drop_cols = ['Case Number', 'Block', 'Date', 'Updated On']  # Adjust as needed\n",
        "# data = data.drop(columns=drop_cols)\n",
        "\n",
        "# # Convert boolean features to integers\n",
        "# data['Arrest'] = data['Arrest'].astype(int)\n",
        "# data['Domestic'] = data['Domestic'].astype(int)\n",
        "\n",
        "# # # Handle numeric conversions and drop invalid rows\n",
        "# # data = data.apply(pd.to_numeric, errors='coerce')\n",
        "# # data = data.dropna()\n",
        "\n",
        "\n",
        "# # Define target and refined features\n",
        "# target = 'Crime_Likelihood'\n",
        "# features = [\n",
        "#     'Latitude', 'Longitude',  'Beat', 'Community Area',\n",
        "#     'District', 'Hour', 'ZIP', 'Ward', 'Day_of_Week', 'Month'\n",
        "# ]\n",
        "\n",
        "# # Split data into train/test sets\n",
        "# X = data[features]\n",
        "# y = (data['Crime_Count'] > data['Crime_Count'].mean()).astype(int)  # Binary target for likelihood\n",
        "# X_train, X_test, y_train, y_test = train_test_split(X, y, test_size=0.2, random_state=42)\n",
        "\n",
        "# # Random Forest Model\n",
        "# rf_model = RandomForestClassifier(random_state=42, n_jobs=-1)\n",
        "# rf_model.fit(X_train, y_train)\n",
        "# rf_predictions = rf_model.predict(X_test)\n",
        "# print(\"Random Forest Classification Report:\")\n",
        "# print(classification_report(y_test, rf_predictions))\n",
        "\n",
        "# # Logistic Regression\n",
        "# log_reg = LogisticRegression(max_iter=500, random_state=42)\n",
        "# log_reg.fit(X_train, y_train)\n",
        "# log_predictions = log_reg.predict(X_test)\n",
        "# print(\"Logistic Regression Classification Report:\")\n",
        "# print(classification_report(y_test, log_predictions))\n",
        "\n",
        "# # XGBoost Classifier\n",
        "# xgb_model = XGBClassifier(random_state=42, eval_metric='logloss')\n",
        "# xgb_model.fit(X_train, y_train)\n",
        "# xgb_predictions = xgb_model.predict(X_test)\n",
        "# print(\"XGBoost Classification Report:\")\n",
        "# print(classification_report(y_test, xgb_predictions))\n",
        "\n",
        "# # Compare Cross-Validation Scores\n",
        "# rf_cv = cross_val_score(rf_model, X, y, cv=5, scoring='accuracy')\n",
        "# log_cv = cross_val_score(log_reg, X, y, cv=5, scoring='accuracy')\n",
        "# xgb_cv = cross_val_score(xgb_model, X, y, cv=5, scoring='accuracy')\n",
        "\n",
        "# print(f\"Random Forest CV Accuracy: {rf_cv.mean():.4f}\")\n",
        "# print(f\"Logistic Regression CV Accuracy: {log_cv.mean():.4f}\")\n",
        "# print(f\"XGBoost CV Accuracy: {xgb_cv.mean():.4f}\")\n",
        "\n",
        "# # Mutual Information\n",
        "# mi_scores = mutual_info_classif(X, y, random_state=42)\n",
        "# mi_df = pd.DataFrame({'Feature': features, 'Mutual Information': mi_scores})\n",
        "# mi_df.sort_values(by='Mutual Information', ascending=False, inplace=True)\n",
        "\n",
        "# # Plot Mutual Information\n",
        "# plt.figure(figsize=(10, 6))\n",
        "# sns.barplot(x='Mutual Information', y='Feature', data=mi_df, palette='coolwarm')\n",
        "# plt.title('Mutual Information Scores')\n",
        "# plt.show()\n"
      ],
      "metadata": {
        "id": "y6FxhGSKdOsJ"
      },
      "execution_count": 23,
      "outputs": []
    },
    {
      "cell_type": "code",
      "source": [
        "import numpy as np\n",
        "from sklearn.ensemble import RandomForestClassifier\n",
        "from sklearn.linear_model import LogisticRegression\n",
        "from xgboost import XGBClassifier\n",
        "from sklearn.metrics import classification_report, accuracy_score\n",
        "from sklearn.model_selection import train_test_split, StratifiedKFold, cross_val_score\n",
        "from sklearn.preprocessing import StandardScaler, LabelEncoder\n",
        "import seaborn as sns\n",
        "import matplotlib.pyplot as plt\n",
        "# Define target and refined feature set (excluding Crime_Count)\n",
        "target = 'Crime_Likelihood'\n",
        "features = ['Latitude', 'Longitude', 'ZIP', 'Beat', 'Community Area', 'District', 'Hour', 'Ward', 'Day_of_Week', 'Month']\n",
        "\n",
        "# Ensure no data leakage from target\n",
        "data['Crime_Likelihood'] = (data['Crime_Count'] > data['Crime_Count'].mean()).astype(int)\n",
        "X = data[features]\n",
        "y = data['Crime_Likelihood']\n",
        "\n",
        "# Train/Test Split\n",
        "X_train, X_test, y_train, y_test = train_test_split(X, y, test_size=0.2, stratify=y, random_state=42)\n",
        "\n",
        "# 1. Random Forest Model\n",
        "rf_model = RandomForestClassifier(random_state=42, n_jobs=-1)\n",
        "rf_model.fit(X_train, y_train)\n",
        "rf_predictions = rf_model.predict(X_test)\n",
        "print(\"Random Forest Classification Report:\")\n",
        "print(classification_report(y_test, rf_predictions))\n",
        "\n",
        "# 2. Logistic Regression with Regularization\n",
        "scaler = StandardScaler()\n",
        "X_train_scaled = scaler.fit_transform(X_train)\n",
        "X_test_scaled = scaler.transform(X_test)\n",
        "log_reg = LogisticRegression(max_iter=500, random_state=42, penalty='l2')\n",
        "log_reg.fit(X_train_scaled, y_train)\n",
        "log_predictions = log_reg.predict(X_test_scaled)\n",
        "print(\"Logistic Regression Classification Report:\")\n",
        "print(classification_report(y_test, log_predictions))\n",
        "\n",
        "# 3. XGBoost Model\n",
        "xgb_model = XGBClassifier(random_state=42, eval_metric='logloss')\n",
        "xgb_model.fit(X_train, y_train)\n",
        "xgb_predictions = xgb_model.predict(X_test)\n",
        "print(\"XGBoost Classification Report:\")\n",
        "print(classification_report(y_test, xgb_predictions))\n",
        "\n",
        "# Cross-Validation\n",
        "cv = StratifiedKFold(n_splits=5, shuffle=True, random_state=42)\n",
        "rf_cv_scores = cross_val_score(rf_model, X, y, cv=cv, scoring='accuracy')\n",
        "log_cv_scores = cross_val_score(log_reg, X, y, cv=cv, scoring='accuracy')\n",
        "xgb_cv_scores = cross_val_score(xgb_model, X, y, cv=cv, scoring='accuracy')\n",
        "\n",
        "print(f\"Random Forest CV Accuracy: {np.mean(rf_cv_scores):.4f}\")\n",
        "print(f\"Logistic Regression CV Accuracy: {np.mean(log_cv_scores):.4f}\")\n",
        "print(f\"XGBoost CV Accuracy: {np.mean(xgb_cv_scores):.4f}\")\n",
        "\n",
        "# Feature Importance from Random Forest\n",
        "rf_importance = pd.DataFrame({'Feature': features, 'Importance': rf_model.feature_importances_})\n",
        "rf_importance.sort_values(by='Importance', ascending=False, inplace=True)\n",
        "plt.figure(figsize=(10, 6))\n",
        "sns.barplot(x='Importance', y='Feature', data=rf_importance, palette='viridis')\n",
        "plt.title('Feature Importance from Random Forest')\n",
        "plt.show()"
      ],
      "metadata": {
        "id": "O4pY0RfCgSMf",
        "colab": {
          "base_uri": "https://localhost:8080/",
          "height": 1000
        },
        "outputId": "0540724f-b03a-42c8-bffa-3afc124086a1"
      },
      "execution_count": 11,
      "outputs": [
        {
          "output_type": "stream",
          "name": "stdout",
          "text": [
            "Random Forest Classification Report:\n",
            "              precision    recall  f1-score   support\n",
            "\n",
            "           0       0.96      0.96      0.96    202670\n",
            "           1       0.95      0.95      0.95    172075\n",
            "\n",
            "    accuracy                           0.96    374745\n",
            "   macro avg       0.96      0.96      0.96    374745\n",
            "weighted avg       0.96      0.96      0.96    374745\n",
            "\n",
            "Logistic Regression Classification Report:\n",
            "              precision    recall  f1-score   support\n",
            "\n",
            "           0       0.73      0.76      0.74    202670\n",
            "           1       0.70      0.67      0.69    172075\n",
            "\n",
            "    accuracy                           0.72    374745\n",
            "   macro avg       0.72      0.72      0.72    374745\n",
            "weighted avg       0.72      0.72      0.72    374745\n",
            "\n",
            "XGBoost Classification Report:\n",
            "              precision    recall  f1-score   support\n",
            "\n",
            "           0       0.91      0.92      0.92    202670\n",
            "           1       0.90      0.90      0.90    172075\n",
            "\n",
            "    accuracy                           0.91    374745\n",
            "   macro avg       0.91      0.91      0.91    374745\n",
            "weighted avg       0.91      0.91      0.91    374745\n",
            "\n"
          ]
        },
        {
          "output_type": "stream",
          "name": "stderr",
          "text": [
            "/usr/local/lib/python3.10/dist-packages/sklearn/linear_model/_logistic.py:469: ConvergenceWarning: lbfgs failed to converge (status=1):\n",
            "STOP: TOTAL NO. of ITERATIONS REACHED LIMIT.\n",
            "\n",
            "Increase the number of iterations (max_iter) or scale the data as shown in:\n",
            "    https://scikit-learn.org/stable/modules/preprocessing.html\n",
            "Please also refer to the documentation for alternative solver options:\n",
            "    https://scikit-learn.org/stable/modules/linear_model.html#logistic-regression\n",
            "  n_iter_i = _check_optimize_result(\n",
            "/usr/local/lib/python3.10/dist-packages/sklearn/linear_model/_logistic.py:469: ConvergenceWarning: lbfgs failed to converge (status=1):\n",
            "STOP: TOTAL NO. of ITERATIONS REACHED LIMIT.\n",
            "\n",
            "Increase the number of iterations (max_iter) or scale the data as shown in:\n",
            "    https://scikit-learn.org/stable/modules/preprocessing.html\n",
            "Please also refer to the documentation for alternative solver options:\n",
            "    https://scikit-learn.org/stable/modules/linear_model.html#logistic-regression\n",
            "  n_iter_i = _check_optimize_result(\n",
            "/usr/local/lib/python3.10/dist-packages/sklearn/linear_model/_logistic.py:469: ConvergenceWarning: lbfgs failed to converge (status=1):\n",
            "STOP: TOTAL NO. of ITERATIONS REACHED LIMIT.\n",
            "\n",
            "Increase the number of iterations (max_iter) or scale the data as shown in:\n",
            "    https://scikit-learn.org/stable/modules/preprocessing.html\n",
            "Please also refer to the documentation for alternative solver options:\n",
            "    https://scikit-learn.org/stable/modules/linear_model.html#logistic-regression\n",
            "  n_iter_i = _check_optimize_result(\n",
            "/usr/local/lib/python3.10/dist-packages/sklearn/linear_model/_logistic.py:469: ConvergenceWarning: lbfgs failed to converge (status=1):\n",
            "STOP: TOTAL NO. of ITERATIONS REACHED LIMIT.\n",
            "\n",
            "Increase the number of iterations (max_iter) or scale the data as shown in:\n",
            "    https://scikit-learn.org/stable/modules/preprocessing.html\n",
            "Please also refer to the documentation for alternative solver options:\n",
            "    https://scikit-learn.org/stable/modules/linear_model.html#logistic-regression\n",
            "  n_iter_i = _check_optimize_result(\n",
            "/usr/local/lib/python3.10/dist-packages/sklearn/linear_model/_logistic.py:469: ConvergenceWarning: lbfgs failed to converge (status=1):\n",
            "STOP: TOTAL NO. of ITERATIONS REACHED LIMIT.\n",
            "\n",
            "Increase the number of iterations (max_iter) or scale the data as shown in:\n",
            "    https://scikit-learn.org/stable/modules/preprocessing.html\n",
            "Please also refer to the documentation for alternative solver options:\n",
            "    https://scikit-learn.org/stable/modules/linear_model.html#logistic-regression\n",
            "  n_iter_i = _check_optimize_result(\n"
          ]
        },
        {
          "output_type": "stream",
          "name": "stdout",
          "text": [
            "Random Forest CV Accuracy: 0.9568\n",
            "Logistic Regression CV Accuracy: 0.6476\n",
            "XGBoost CV Accuracy: 0.9088\n"
          ]
        },
        {
          "output_type": "stream",
          "name": "stderr",
          "text": [
            "<ipython-input-11-81494d0a9da2>:60: FutureWarning: \n",
            "\n",
            "Passing `palette` without assigning `hue` is deprecated and will be removed in v0.14.0. Assign the `y` variable to `hue` and set `legend=False` for the same effect.\n",
            "\n",
            "  sns.barplot(x='Importance', y='Feature', data=rf_importance, palette='viridis')\n"
          ]
        },
        {
          "output_type": "display_data",
          "data": {
            "text/plain": [
              "<Figure size 1000x600 with 1 Axes>"
            ],
            "image/png": "[encoded data removed]"
          },
          "metadata": {}
        }
      ]
    },
    {
      "cell_type": "markdown",
      "source": [
        "### Fine tune the random forest model"
      ],
      "metadata": {
        "id": "6VCjXukp_rNb"
      }
    },
    {
      "cell_type": "code",
      "source": [
        "from sklearn.ensemble import RandomForestClassifier\n",
        "from sklearn.model_selection import RandomizedSearchCV\n",
        "from sklearn.metrics import classification_report\n",
        "from sklearn.model_selection import train_test_split\n",
        "\n",
        "# Subsample data\n",
        "X_subsample, _, y_subsample, _ = train_test_split(X_train, y_train, test_size=0.7, stratify=y_train, random_state=42)\n",
        "\n",
        "# Define the parameter grid\n",
        "param_dist = {\n",
        "    'n_estimators': [100, 200, 300],\n",
        "    'max_depth': [10, 20],\n",
        "    'min_samples_split': [2, 5],\n",
        "    'min_samples_leaf': [1, 5]\n",
        "}\n",
        "\n",
        "# Initialize the Random Forest model\n",
        "rf = RandomForestClassifier(random_state=42, n_jobs=1)\n",
        "\n",
        "# Perform Randomized Search with Cross-Validation\n",
        "random_search = RandomizedSearchCV(\n",
        "    estimator=rf,\n",
        "    param_distributions=param_dist,\n",
        "    n_iter=10,  # Number of combinations to try\n",
        "    scoring='accuracy',\n",
        "    cv=3,  # Fewer folds\n",
        "    n_jobs=2,\n",
        "    verbose=2,\n",
        "    random_state=42\n",
        ")\n",
        "random_search.fit(X_subsample, y_subsample)\n",
        "\n",
        "# Print the best parameters and score\n",
        "print(\"Best Parameters:\", random_search.best_params_)\n",
        "print(\"Best Score:\", random_search.best_score_)\n",
        "\n",
        "# Evaluate the final model\n",
        "best_rf = random_search.best_estimator_\n",
        "y_pred = best_rf.predict(X_test)\n",
        "print(\"Random Forest Classification Report:\")\n",
        "print(classification_report(y_test, y_pred))\n"
      ],
      "metadata": {
        "id": "gNAGBpHv_vRC",
        "colab": {
          "base_uri": "https://localhost:8080/"
        },
        "outputId": "71859729-7672-435d-dcbe-560e74a5767b"
      },
      "execution_count": 14,
      "outputs": [
        {
          "output_type": "stream",
          "name": "stdout",
          "text": [
            "Fitting 3 folds for each of 10 candidates, totalling 30 fits\n"
          ]
        },
        {
          "output_type": "stream",
          "name": "stderr",
          "text": [
            "/usr/local/lib/python3.10/dist-packages/joblib/externals/loky/process_executor.py:752: UserWarning: A worker stopped while some jobs were given to the executor. This can be caused by a too short worker timeout or by a memory leak.\n",
            "  warnings.warn(\n"
          ]
        },
        {
          "output_type": "stream",
          "name": "stdout",
          "text": [
            "Best Parameters: {'n_estimators': 200, 'min_samples_split': 2, 'min_samples_leaf': 1, 'max_depth': 20}\n",
            "Best Score: 0.9114862791856343\n",
            "Random Forest Classification Report:\n",
            "              precision    recall  f1-score   support\n",
            "\n",
            "           0       0.92      0.92      0.92    202670\n",
            "           1       0.91      0.90      0.91    172075\n",
            "\n",
            "    accuracy                           0.92    374745\n",
            "   macro avg       0.91      0.91      0.91    374745\n",
            "weighted avg       0.91      0.92      0.91    374745\n",
            "\n"
          ]
        }
      ]
    },
    {
      "cell_type": "code",
      "source": [
        "import joblib\n",
        "joblib.dump(grid_search, \"grid_search_results.pkl\")\n"
      ],
      "metadata": {
        "id": "DPSrQtA398ts"
      },
      "execution_count": null,
      "outputs": []
    },
    {
      "cell_type": "code",
      "source": [
        "best_params = grid_search.best_params_  # or random_search.best_params_\n",
        "rf_final = RandomForestClassifier(**best_params, random_state=42, n_jobs=-1)\n",
        "rf_final.fit(X_train, y_train)\n",
        "y_pred = rf_final.predict(X_test)\n",
        "\n",
        "print(classification_report(y_test, y_pred))\n"
      ],
      "metadata": {
        "id": "_ou1xp7z8enr"
      },
      "execution_count": null,
      "outputs": []
    },
    {
      "cell_type": "code",
      "source": [
        "import shap\n",
        "import pandas as pd\n",
        "import matplotlib.pyplot as plt\n",
        "\n",
        "# Initialize SHAP Explainer for Random Forest\n",
        "explainer_rf = shap.TreeExplainer(best_rf_model)\n",
        "shap_values_rf = explainer_rf.shap_values(X_train)\n",
        "\n",
        "# Feature Importance based on SHAP values (global interpretation)\n",
        "shap.summary_plot(shap_values_rf, X_train, plot_type=\"bar\")\n",
        "\n",
        "# Summary plot to show the contribution of features (detailed)\n",
        "shap.summary_plot(shap_values_rf, X_train)\n",
        "\n",
        "# Explanation for a single prediction (local interpretation)\n",
        "sample_idx = 0  # Index of the sample to explain\n",
        "shap.force_plot(explainer_rf.expected_value[1], shap_values_rf[1][sample_idx], X_train.iloc[sample_idx], matplotlib=True)\n"
      ],
      "metadata": {
        "id": "sk3Y_vEKANw3"
      },
      "execution_count": null,
      "outputs": []
    },
    {
      "cell_type": "markdown",
      "source": [
        "## Saptial Modeling- Crime Type\n"
      ],
      "metadata": {
        "id": "xqsKbxxESaDS"
      }
    },
    {
      "cell_type": "markdown",
      "source": [
        "### Feature selection code"
      ],
      "metadata": {
        "id": "lf3E_iyEPw9-"
      }
    },
    {
      "cell_type": "code",
      "source": [
        "import pandas as pd\n",
        "import numpy as np\n",
        "from sklearn.ensemble import RandomForestClassifier\n",
        "from sklearn.feature_selection import mutual_info_classif\n",
        "from sklearn.decomposition import PCA\n",
        "from sklearn.cluster import KMeans\n",
        "import matplotlib.pyplot as plt\n",
        "import seaborn as sns"
      ],
      "metadata": {
        "id": "Qd7HD1YoTtbb"
      },
      "execution_count": null,
      "outputs": []
    },
    {
      "cell_type": "code",
      "source": [
        "data.info()"
      ],
      "metadata": {
        "colab": {
          "base_uri": "https://localhost:8080/"
        },
        "id": "CWwrthYrUf0S",
        "outputId": "bb10f420-a026-44b4-e6fd-f2b3bb51f749"
      },
      "execution_count": null,
      "outputs": [
        {
          "output_type": "stream",
          "name": "stdout",
          "text": [
            "<class 'pandas.core.frame.DataFrame'>\n",
            "RangeIndex: 1873724 entries, 0 to 1873723\n",
            "Data columns (total 25 columns):\n",
            " #   Column                  Dtype  \n",
            "---  ------                  -----  \n",
            " 0   ID                      int64  \n",
            " 1   IUCR                    object \n",
            " 2   Primary Type            int64  \n",
            " 3   Description             int64  \n",
            " 4   Arrest                  int64  \n",
            " 5   Domestic                int64  \n",
            " 6   Beat                    int64  \n",
            " 7   District                float64\n",
            " 8   Ward                    float64\n",
            " 9   Community Area          float64\n",
            " 10  Year                    int64  \n",
            " 11  Latitude                float64\n",
            " 12  Longitude               float64\n",
            " 13  Hour                    int64  \n",
            " 14  Day_of_Week             int64  \n",
            " 15  Month                   int64  \n",
            " 16  Is_Weekend              int64  \n",
            " 17  Time_of_Day             int64  \n",
            " 18  ZIP                     float64\n",
            " 19  Consolidated_Type       int64  \n",
            " 20  Encoded_Crime_Type      int64  \n",
            " 21  Crime_Severity          int64  \n",
            " 22  Encoded_Crime_Severity  int64  \n",
            " 23  Crime_Count             int64  \n",
            " 24  Crime_Likelihood        int64  \n",
            "dtypes: float64(6), int64(18), object(1)\n",
            "memory usage: 357.4+ MB\n"
          ]
        }
      ]
    },
    {
      "cell_type": "code",
      "source": [
        "# Convert problematic string features\n",
        "string_cols = ['FBI Code', 'Primary Type', 'Description', 'Time_of_Day', 'Consolidated_Type', 'Crime_Severity']\n",
        "for col in string_cols:\n",
        "    data[col] = data[col].astype(str)  # Ensure string type\n",
        "    le = LabelEncoder()\n",
        "    data[col] = le.fit_transform(data[col])  # Encode strings to numeric\n",
        "  #Drop irrelevant or redundant features\n",
        "drop_cols = ['Case Number', 'Block', 'Date', 'Updated On', 'FBI Code']  # Dropping 'FBI Code'\n",
        "data = data.drop(columns=drop_cols)\n",
        "\n",
        "# Convert boolean features to integers\n",
        "data['Arrest'] = data['Arrest'].astype(int)\n",
        "data['Domestic'] = data['Domestic'].astype(int)"
      ],
      "metadata": {
        "id": "8UUhLFKtUxq6"
      },
      "execution_count": null,
      "outputs": []
    },
    {
      "cell_type": "code",
      "source": [
        "# Define target and features\n",
        "target = 'Encoded_Crime_Type'  # Adjust if the target is different\n",
        "features = [col for col in data.columns if col != target]\n",
        "\n",
        "# 1. Feature Importance with Random Forest\n",
        "rf_model = RandomForestClassifier(random_state=42, n_jobs=-1)\n",
        "rf_model.fit(data[features], data[target])\n",
        "\n",
        "# Get feature importance\n",
        "feature_importance = pd.DataFrame({'Feature': features, 'Importance': rf_model.feature_importances_})\n",
        "feature_importance.sort_values(by='Importance', ascending=False, inplace=True)\n",
        "\n",
        "# Plot feature importance\n",
        "plt.figure(figsize=(10, 6))\n",
        "sns.barplot(x='Importance', y='Feature', data=feature_importance, palette='viridis')\n",
        "plt.title('Feature Importance from Random Forest')\n",
        "plt.show()\n"
      ],
      "metadata": {
        "colab": {
          "base_uri": "https://localhost:8080/",
          "height": 673
        },
        "id": "6N50v3ug7zxB",
        "outputId": "eec90cf0-37d6-4cbb-c4cf-d0fa72724f5a"
      },
      "execution_count": null,
      "outputs": [
        {
          "output_type": "stream",
          "name": "stderr",
          "text": [
            "<ipython-input-27-94ec9dedaf25>:15: FutureWarning: \n",
            "\n",
            "Passing `palette` without assigning `hue` is deprecated and will be removed in v0.14.0. Assign the `y` variable to `hue` and set `legend=False` for the same effect.\n",
            "\n",
            "  sns.barplot(x='Importance', y='Feature', data=feature_importance, palette='viridis')\n"
          ]
        },
        {
          "output_type": "display_data",
          "data": {
            "text/plain": [
              "<Figure size 1000x600 with 1 Axes>"
            ],
            "image/png": "[encoded data removed]"
          },
          "metadata": {}
        }
      ]
    },
    {
      "cell_type": "code",
      "source": [
        "final_features = [\n",
        "    'Consolidated_Type', 'Crime_Severity', 'Encoded_Crime_Severity',\n",
        "    'FBI Code', 'Primary Type', 'IUCR', 'Description', 'Arrest',\n",
        "    'Domestic', 'Spatial_Cluster'\n",
        "]\n"
      ],
      "metadata": {
        "id": "qGDQIVMAbsCk"
      },
      "execution_count": null,
      "outputs": []
    },
    {
      "cell_type": "code",
      "source": [
        "# Define target and features\n",
        "target = 'Encoded_Crime_Severity'  # Adjust if the target is different\n",
        "features = [col for col in data.columns if col != target]\n",
        "\n",
        "# 1. Feature Importance with Random Forest\n",
        "rf_model = RandomForestClassifier(random_state=42, n_jobs=-1)\n",
        "rf_model.fit(data[features], data[target])\n",
        "\n",
        "# Get feature importance\n",
        "feature_importance = pd.DataFrame({'Feature': features, 'Importance': rf_model.feature_importances_})\n",
        "feature_importance.sort_values(by='Importance', ascending=False, inplace=True)\n",
        "\n",
        "# Plot feature importance\n",
        "plt.figure(figsize=(10, 6))\n",
        "sns.barplot(x='Importance', y='Feature', data=feature_importance, palette='viridis')\n",
        "plt.title('Feature Importance from Random Forest')\n",
        "plt.show()\n"
      ],
      "metadata": {
        "colab": {
          "base_uri": "https://localhost:8080/",
          "height": 673
        },
        "id": "JUyKEXb9UYw2",
        "outputId": "1f13ab86-de84-4108-b420-82fd4dfc661f"
      },
      "execution_count": null,
      "outputs": [
        {
          "output_type": "stream",
          "name": "stderr",
          "text": [
            "<ipython-input-28-696b04160d9e>:15: FutureWarning: \n",
            "\n",
            "Passing `palette` without assigning `hue` is deprecated and will be removed in v0.14.0. Assign the `y` variable to `hue` and set `legend=False` for the same effect.\n",
            "\n",
            "  sns.barplot(x='Importance', y='Feature', data=feature_importance, palette='viridis')\n"
          ]
        },
        {
          "output_type": "display_data",
          "data": {
            "text/plain": [
              "<Figure size 1000x600 with 1 Axes>"
            ],
            "image/png": "[encoded data removed]"
          },
          "metadata": {}
        }
      ]
    },
    {
      "cell_type": "code",
      "source": [
        "# Define target and features\n",
        "target = 'Crime_Likelihood'  # Adjust if the target is different\n",
        "features = [col for col in data.columns if col != target]\n",
        "\n",
        "# 1. Feature Importance with Random Forest\n",
        "rf_model = RandomForestClassifier(random_state=42, n_jobs=-1)\n",
        "rf_model.fit(data[features], data[target])\n",
        "\n",
        "# Get feature importance\n",
        "feature_importance = pd.DataFrame({'Feature': features, 'Importance': rf_model.feature_importances_})\n",
        "feature_importance.sort_values(by='Importance', ascending=False, inplace=True)\n",
        "\n",
        "# Plot feature importance\n",
        "plt.figure(figsize=(10, 6))\n",
        "sns.barplot(x='Importance', y='Feature', data=feature_importance, palette='viridis')\n",
        "plt.title('Feature Importance from Random Forest')\n",
        "plt.show()\n"
      ],
      "metadata": {
        "id": "KtaG6-MaW4hL"
      },
      "execution_count": null,
      "outputs": []
    },
    {
      "cell_type": "code",
      "source": [],
      "metadata": {
        "id": "DwCrzF5Te5hV"
      },
      "execution_count": null,
      "outputs": []
    }
  ]
}