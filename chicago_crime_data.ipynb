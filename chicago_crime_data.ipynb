{
 "cells": [
  {
   "cell_type": "code",
   "execution_count": 1,
   "metadata": {},
   "outputs": [],
   "source": [
    "import pandas as pd\n",
    "import numpy as np\n",
    "\n"
   ]
  },
  {
   "cell_type": "code",
   "execution_count": 2,
   "metadata": {},
   "outputs": [],
   "source": [
    "data = pd.read_csv('/Users/saitejasriyerramsetti/Documents/BDA 696/Final Project/Crimes_-_2001_to_Present_20240918.csv')"
   ]
  },
  {
   "cell_type": "code",
   "execution_count": 5,
   "metadata": {},
   "outputs": [
    {
     "data": {
      "text/plain": [
       "Index(['ID', 'Case Number', 'Date', 'Block', 'IUCR', 'Primary Type',\n",
       "       'Description', 'Location Description', 'Arrest', 'Domestic', 'Beat',\n",
       "       'District', 'Ward', 'Community Area', 'FBI Code', 'X Coordinate',\n",
       "       'Y Coordinate', 'Year', 'Updated On', 'Latitude', 'Longitude',\n",
       "       'Location'],\n",
       "      dtype='object')"
      ]
     },
     "execution_count": 5,
     "metadata": {},
     "output_type": "execute_result"
    }
   ],
   "source": [
    "data.columns"
   ]
  },
  {
   "cell_type": "code",
   "execution_count": 4,
   "metadata": {},
   "outputs": [
    {
     "data": {
      "text/html": [
       "<div>\n",
       "<style scoped>\n",
       "    .dataframe tbody tr th:only-of-type {\n",
       "        vertical-align: middle;\n",
       "    }\n",
       "\n",
       "    .dataframe tbody tr th {\n",
       "        vertical-align: top;\n",
       "    }\n",
       "\n",
       "    .dataframe thead th {\n",
       "        text-align: right;\n",
       "    }\n",
       "</style>\n",
       "<table border=\"1\" class=\"dataframe\">\n",
       "  <thead>\n",
       "    <tr style=\"text-align: right;\">\n",
       "      <th></th>\n",
       "      <th>ID</th>\n",
       "      <th>Case Number</th>\n",
       "      <th>Date</th>\n",
       "      <th>Block</th>\n",
       "      <th>IUCR</th>\n",
       "      <th>Primary Type</th>\n",
       "      <th>Description</th>\n",
       "      <th>Location Description</th>\n",
       "      <th>Arrest</th>\n",
       "      <th>Domestic</th>\n",
       "      <th>...</th>\n",
       "      <th>Ward</th>\n",
       "      <th>Community Area</th>\n",
       "      <th>FBI Code</th>\n",
       "      <th>X Coordinate</th>\n",
       "      <th>Y Coordinate</th>\n",
       "      <th>Year</th>\n",
       "      <th>Updated On</th>\n",
       "      <th>Latitude</th>\n",
       "      <th>Longitude</th>\n",
       "      <th>Location</th>\n",
       "    </tr>\n",
       "  </thead>\n",
       "  <tbody>\n",
       "    <tr>\n",
       "      <th>0</th>\n",
       "      <td>11037294</td>\n",
       "      <td>JA371270</td>\n",
       "      <td>03/18/2015 12:00:00 PM</td>\n",
       "      <td>0000X W WACKER DR</td>\n",
       "      <td>1153</td>\n",
       "      <td>DECEPTIVE PRACTICE</td>\n",
       "      <td>FINANCIAL IDENTITY THEFT OVER $ 300</td>\n",
       "      <td>BANK</td>\n",
       "      <td>False</td>\n",
       "      <td>False</td>\n",
       "      <td>...</td>\n",
       "      <td>42.0</td>\n",
       "      <td>32.0</td>\n",
       "      <td>11</td>\n",
       "      <td>NaN</td>\n",
       "      <td>NaN</td>\n",
       "      <td>2015</td>\n",
       "      <td>08/01/2017 03:52:26 PM</td>\n",
       "      <td>NaN</td>\n",
       "      <td>NaN</td>\n",
       "      <td>NaN</td>\n",
       "    </tr>\n",
       "    <tr>\n",
       "      <th>1</th>\n",
       "      <td>11646293</td>\n",
       "      <td>JC213749</td>\n",
       "      <td>12/20/2018 03:00:00 PM</td>\n",
       "      <td>023XX N LOCKWOOD AVE</td>\n",
       "      <td>1154</td>\n",
       "      <td>DECEPTIVE PRACTICE</td>\n",
       "      <td>FINANCIAL IDENTITY THEFT $300 AND UNDER</td>\n",
       "      <td>APARTMENT</td>\n",
       "      <td>False</td>\n",
       "      <td>False</td>\n",
       "      <td>...</td>\n",
       "      <td>36.0</td>\n",
       "      <td>19.0</td>\n",
       "      <td>11</td>\n",
       "      <td>NaN</td>\n",
       "      <td>NaN</td>\n",
       "      <td>2018</td>\n",
       "      <td>04/06/2019 04:04:43 PM</td>\n",
       "      <td>NaN</td>\n",
       "      <td>NaN</td>\n",
       "      <td>NaN</td>\n",
       "    </tr>\n",
       "    <tr>\n",
       "      <th>2</th>\n",
       "      <td>11645836</td>\n",
       "      <td>JC212333</td>\n",
       "      <td>05/01/2016 12:25:00 AM</td>\n",
       "      <td>055XX S ROCKWELL ST</td>\n",
       "      <td>1153</td>\n",
       "      <td>DECEPTIVE PRACTICE</td>\n",
       "      <td>FINANCIAL IDENTITY THEFT OVER $ 300</td>\n",
       "      <td>NaN</td>\n",
       "      <td>False</td>\n",
       "      <td>False</td>\n",
       "      <td>...</td>\n",
       "      <td>15.0</td>\n",
       "      <td>63.0</td>\n",
       "      <td>11</td>\n",
       "      <td>NaN</td>\n",
       "      <td>NaN</td>\n",
       "      <td>2016</td>\n",
       "      <td>04/06/2019 04:04:43 PM</td>\n",
       "      <td>NaN</td>\n",
       "      <td>NaN</td>\n",
       "      <td>NaN</td>\n",
       "    </tr>\n",
       "    <tr>\n",
       "      <th>3</th>\n",
       "      <td>11645959</td>\n",
       "      <td>JC211511</td>\n",
       "      <td>12/20/2018 04:00:00 PM</td>\n",
       "      <td>045XX N ALBANY AVE</td>\n",
       "      <td>2820</td>\n",
       "      <td>OTHER OFFENSE</td>\n",
       "      <td>TELEPHONE THREAT</td>\n",
       "      <td>RESIDENCE</td>\n",
       "      <td>False</td>\n",
       "      <td>False</td>\n",
       "      <td>...</td>\n",
       "      <td>33.0</td>\n",
       "      <td>14.0</td>\n",
       "      <td>08A</td>\n",
       "      <td>NaN</td>\n",
       "      <td>NaN</td>\n",
       "      <td>2018</td>\n",
       "      <td>04/06/2019 04:04:43 PM</td>\n",
       "      <td>NaN</td>\n",
       "      <td>NaN</td>\n",
       "      <td>NaN</td>\n",
       "    </tr>\n",
       "    <tr>\n",
       "      <th>4</th>\n",
       "      <td>11645601</td>\n",
       "      <td>JC212935</td>\n",
       "      <td>06/01/2014 12:01:00 AM</td>\n",
       "      <td>087XX S SANGAMON ST</td>\n",
       "      <td>1153</td>\n",
       "      <td>DECEPTIVE PRACTICE</td>\n",
       "      <td>FINANCIAL IDENTITY THEFT OVER $ 300</td>\n",
       "      <td>RESIDENCE</td>\n",
       "      <td>False</td>\n",
       "      <td>False</td>\n",
       "      <td>...</td>\n",
       "      <td>21.0</td>\n",
       "      <td>71.0</td>\n",
       "      <td>11</td>\n",
       "      <td>NaN</td>\n",
       "      <td>NaN</td>\n",
       "      <td>2014</td>\n",
       "      <td>04/06/2019 04:04:43 PM</td>\n",
       "      <td>NaN</td>\n",
       "      <td>NaN</td>\n",
       "      <td>NaN</td>\n",
       "    </tr>\n",
       "  </tbody>\n",
       "</table>\n",
       "<p>5 rows × 22 columns</p>\n",
       "</div>"
      ],
      "text/plain": [
       "         ID Case Number                    Date                 Block  IUCR  \\\n",
       "0  11037294    JA371270  03/18/2015 12:00:00 PM     0000X W WACKER DR  1153   \n",
       "1  11646293    JC213749  12/20/2018 03:00:00 PM  023XX N LOCKWOOD AVE  1154   \n",
       "2  11645836    JC212333  05/01/2016 12:25:00 AM   055XX S ROCKWELL ST  1153   \n",
       "3  11645959    JC211511  12/20/2018 04:00:00 PM    045XX N ALBANY AVE  2820   \n",
       "4  11645601    JC212935  06/01/2014 12:01:00 AM   087XX S SANGAMON ST  1153   \n",
       "\n",
       "         Primary Type                              Description  \\\n",
       "0  DECEPTIVE PRACTICE      FINANCIAL IDENTITY THEFT OVER $ 300   \n",
       "1  DECEPTIVE PRACTICE  FINANCIAL IDENTITY THEFT $300 AND UNDER   \n",
       "2  DECEPTIVE PRACTICE      FINANCIAL IDENTITY THEFT OVER $ 300   \n",
       "3       OTHER OFFENSE                         TELEPHONE THREAT   \n",
       "4  DECEPTIVE PRACTICE      FINANCIAL IDENTITY THEFT OVER $ 300   \n",
       "\n",
       "  Location Description  Arrest  Domestic  ...  Ward  Community Area  FBI Code  \\\n",
       "0                 BANK   False     False  ...  42.0            32.0        11   \n",
       "1            APARTMENT   False     False  ...  36.0            19.0        11   \n",
       "2                  NaN   False     False  ...  15.0            63.0        11   \n",
       "3            RESIDENCE   False     False  ...  33.0            14.0       08A   \n",
       "4            RESIDENCE   False     False  ...  21.0            71.0        11   \n",
       "\n",
       "   X Coordinate Y Coordinate  Year              Updated On  Latitude  \\\n",
       "0           NaN          NaN  2015  08/01/2017 03:52:26 PM       NaN   \n",
       "1           NaN          NaN  2018  04/06/2019 04:04:43 PM       NaN   \n",
       "2           NaN          NaN  2016  04/06/2019 04:04:43 PM       NaN   \n",
       "3           NaN          NaN  2018  04/06/2019 04:04:43 PM       NaN   \n",
       "4           NaN          NaN  2014  04/06/2019 04:04:43 PM       NaN   \n",
       "\n",
       "  Longitude  Location  \n",
       "0       NaN       NaN  \n",
       "1       NaN       NaN  \n",
       "2       NaN       NaN  \n",
       "3       NaN       NaN  \n",
       "4       NaN       NaN  \n",
       "\n",
       "[5 rows x 22 columns]"
      ]
     },
     "execution_count": 4,
     "metadata": {},
     "output_type": "execute_result"
    }
   ],
   "source": [
    "data.head()# IUCR illinois code for reporting crimes"
   ]
  },
  {
   "cell_type": "code",
   "execution_count": 6,
   "metadata": {},
   "outputs": [
    {
     "data": {
      "text/plain": [
       "0     111\n",
       "1    2515\n",
       "2     824\n",
       "3    1724\n",
       "4    2222\n",
       "Name: Beat, dtype: int64"
      ]
     },
     "execution_count": 6,
     "metadata": {},
     "output_type": "execute_result"
    }
   ],
   "source": [
    "data['Beat'].head()"
   ]
  },
  {
   "cell_type": "code",
   "execution_count": 9,
   "metadata": {},
   "outputs": [
    {
     "data": {
      "text/plain": [
       "(8156508, 22)"
      ]
     },
     "execution_count": 9,
     "metadata": {},
     "output_type": "execute_result"
    }
   ],
   "source": [
    "data.shape #8156508, 22"
   ]
  },
  {
   "cell_type": "code",
   "execution_count": 10,
   "metadata": {},
   "outputs": [
    {
     "name": "stdout",
     "output_type": "stream",
     "text": [
      "<class 'pandas.core.frame.DataFrame'>\n",
      "RangeIndex: 8156508 entries, 0 to 8156507\n",
      "Data columns (total 22 columns):\n",
      " #   Column                Dtype  \n",
      "---  ------                -----  \n",
      " 0   ID                    int64  \n",
      " 1   Case Number           object \n",
      " 2   Date                  object \n",
      " 3   Block                 object \n",
      " 4   IUCR                  object \n",
      " 5   Primary Type          object \n",
      " 6   Description           object \n",
      " 7   Location Description  object \n",
      " 8   Arrest                bool   \n",
      " 9   Domestic              bool   \n",
      " 10  Beat                  int64  \n",
      " 11  District              float64\n",
      " 12  Ward                  float64\n",
      " 13  Community Area        float64\n",
      " 14  FBI Code              object \n",
      " 15  X Coordinate          float64\n",
      " 16  Y Coordinate          float64\n",
      " 17  Year                  int64  \n",
      " 18  Updated On            object \n",
      " 19  Latitude              float64\n",
      " 20  Longitude             float64\n",
      " 21  Location              object \n",
      "dtypes: bool(2), float64(7), int64(3), object(10)\n",
      "memory usage: 1.2+ GB\n"
     ]
    }
   ],
   "source": [
    "data.info()"
   ]
  },
  {
   "cell_type": "code",
   "execution_count": 11,
   "metadata": {},
   "outputs": [
    {
     "data": {
      "text/plain": [
       "<bound method NDFrame.describe of                ID Case Number                    Date  \\\n",
       "0        11037294    JA371270  03/18/2015 12:00:00 PM   \n",
       "1        11646293    JC213749  12/20/2018 03:00:00 PM   \n",
       "2        11645836    JC212333  05/01/2016 12:25:00 AM   \n",
       "3        11645959    JC211511  12/20/2018 04:00:00 PM   \n",
       "4        11645601    JC212935  06/01/2014 12:01:00 AM   \n",
       "...           ...         ...                     ...   \n",
       "8156503  12131776    JD327752  08/10/2020 08:30:00 PM   \n",
       "8156504  12082414    JD269218  06/18/2020 09:00:00 PM   \n",
       "8156505  12118237    JD311791  07/27/2020 03:02:00 PM   \n",
       "8156506  12142591    JD340297  08/14/2020 03:00:00 PM   \n",
       "8156507  12002171    JD177406  03/06/2020 02:00:00 PM   \n",
       "\n",
       "                                       Block  IUCR         Primary Type  \\\n",
       "0                          0000X W WACKER DR  1153   DECEPTIVE PRACTICE   \n",
       "1                       023XX N LOCKWOOD AVE  1154   DECEPTIVE PRACTICE   \n",
       "2                        055XX S ROCKWELL ST  1153   DECEPTIVE PRACTICE   \n",
       "3                         045XX N ALBANY AVE  2820        OTHER OFFENSE   \n",
       "4                        087XX S SANGAMON ST  1153   DECEPTIVE PRACTICE   \n",
       "...                                      ...   ...                  ...   \n",
       "8156503               066XX S SACRAMENTO AVE  0620             BURGLARY   \n",
       "8156504  093XX S DR MARTIN LUTHER KING JR DR  0820                THEFT   \n",
       "8156505                      033XX W POLK ST  0486              BATTERY   \n",
       "8156506                 023XX W ROSEMONT AVE  0910  MOTOR VEHICLE THEFT   \n",
       "8156507                 033XX N LAKEWOOD AVE  1150   DECEPTIVE PRACTICE   \n",
       "\n",
       "                                     Description Location Description  Arrest  \\\n",
       "0            FINANCIAL IDENTITY THEFT OVER $ 300                 BANK   False   \n",
       "1        FINANCIAL IDENTITY THEFT $300 AND UNDER            APARTMENT   False   \n",
       "2            FINANCIAL IDENTITY THEFT OVER $ 300                  NaN   False   \n",
       "3                               TELEPHONE THREAT            RESIDENCE   False   \n",
       "4            FINANCIAL IDENTITY THEFT OVER $ 300            RESIDENCE   False   \n",
       "...                                          ...                  ...     ...   \n",
       "8156503                           UNLAWFUL ENTRY            APARTMENT   False   \n",
       "8156504                           $500 AND UNDER            RESIDENCE   False   \n",
       "8156505                  DOMESTIC BATTERY SIMPLE            APARTMENT   False   \n",
       "8156506                               AUTOMOBILE               STREET   False   \n",
       "8156507                        CREDIT CARD FRAUD            APARTMENT   False   \n",
       "\n",
       "         Domestic  ...  Ward  Community Area  FBI Code  X Coordinate  \\\n",
       "0           False  ...  42.0            32.0        11           NaN   \n",
       "1           False  ...  36.0            19.0        11           NaN   \n",
       "2           False  ...  15.0            63.0        11           NaN   \n",
       "3           False  ...  33.0            14.0       08A           NaN   \n",
       "4           False  ...  21.0            71.0        11           NaN   \n",
       "...           ...  ...   ...             ...       ...           ...   \n",
       "8156503     False  ...  17.0            66.0        05     1157527.0   \n",
       "8156504     False  ...   9.0            49.0        06     1180558.0   \n",
       "8156505      True  ...  24.0            27.0       08B     1154169.0   \n",
       "8156506     False  ...  50.0             2.0        07     1159419.0   \n",
       "8156507     False  ...  44.0             6.0        11     1167040.0   \n",
       "\n",
       "        Y Coordinate  Year              Updated On   Latitude  Longitude  \\\n",
       "0                NaN  2015  08/01/2017 03:52:26 PM        NaN        NaN   \n",
       "1                NaN  2018  04/06/2019 04:04:43 PM        NaN        NaN   \n",
       "2                NaN  2016  04/06/2019 04:04:43 PM        NaN        NaN   \n",
       "3                NaN  2018  04/06/2019 04:04:43 PM        NaN        NaN   \n",
       "4                NaN  2014  04/06/2019 04:04:43 PM        NaN        NaN   \n",
       "...              ...   ...                     ...        ...        ...   \n",
       "8156503    1860392.0  2020  08/17/2020 03:41:32 PM  41.772671 -87.698104   \n",
       "8156504    1843036.0  2020  06/25/2020 03:41:40 PM  41.724546 -87.614211   \n",
       "8156505    1896171.0  2020  08/03/2020 03:41:51 PM  41.870921 -87.709461   \n",
       "8156506    1941765.0  2020  08/26/2020 03:40:41 PM  41.995927 -87.688929   \n",
       "8156507    1922212.0  2020  03/13/2020 03:41:29 PM  41.942112 -87.661459   \n",
       "\n",
       "                              Location  \n",
       "0                                  NaN  \n",
       "1                                  NaN  \n",
       "2                                  NaN  \n",
       "3                                  NaN  \n",
       "4                                  NaN  \n",
       "...                                ...  \n",
       "8156503  (41.772671069, -87.698104059)  \n",
       "8156504  (41.724546436, -87.614210743)  \n",
       "8156505  (41.870920735, -87.709461362)  \n",
       "8156506  (41.995927389, -87.688928533)  \n",
       "8156507  (41.942112495, -87.661458579)  \n",
       "\n",
       "[8156508 rows x 22 columns]>"
      ]
     },
     "execution_count": 11,
     "metadata": {},
     "output_type": "execute_result"
    }
   ],
   "source": [
    "data.describe"
   ]
  },
  {
   "cell_type": "code",
   "execution_count": 12,
   "metadata": {},
   "outputs": [
    {
     "data": {
      "text/plain": [
       "ID                           0\n",
       "Case Number                  0\n",
       "Date                         0\n",
       "Block                        0\n",
       "IUCR                         0\n",
       "Primary Type                 0\n",
       "Description                  0\n",
       "Location Description     13553\n",
       "Arrest                       0\n",
       "Domestic                     0\n",
       "Beat                         0\n",
       "District                    47\n",
       "Ward                    614829\n",
       "Community Area          613453\n",
       "FBI Code                     0\n",
       "X Coordinate             89841\n",
       "Y Coordinate             89841\n",
       "Year                         0\n",
       "Updated On                   0\n",
       "Latitude                 89841\n",
       "Longitude                89841\n",
       "Location                 89841\n",
       "dtype: int64"
      ]
     },
     "execution_count": 12,
     "metadata": {},
     "output_type": "execute_result"
    }
   ],
   "source": [
    "data.isnull().sum()"
   ]
  },
  {
   "cell_type": "code",
   "execution_count": 13,
   "metadata": {},
   "outputs": [
    {
     "data": {
      "text/plain": [
       "Community Area\n",
       "25.0    466393\n",
       "8.0     268844\n",
       "43.0    248599\n",
       "23.0    234114\n",
       "28.0    232038\n",
       "         ...  \n",
       "74.0     16871\n",
       "12.0     14095\n",
       "47.0     11205\n",
       "9.0       7553\n",
       "0.0         76\n",
       "Name: count, Length: 78, dtype: int64"
      ]
     },
     "execution_count": 13,
     "metadata": {},
     "output_type": "execute_result"
    }
   ],
   "source": [
    "data['Community Area'].value_counts()"
   ]
  },
  {
   "cell_type": "code",
   "execution_count": 14,
   "metadata": {},
   "outputs": [
    {
     "data": {
      "text/plain": [
       "array([nan, '(41.830481843, -87.621751752)',\n",
       "       '(41.836310224, -87.639624112)', ...,\n",
       "       '(41.873179092, -87.718078907)', '(41.70228413, -87.606300025)',\n",
       "       '(41.725697102, -87.605186246)'], dtype=object)"
      ]
     },
     "execution_count": 14,
     "metadata": {},
     "output_type": "execute_result"
    }
   ],
   "source": [
    "data['Location'].unique()"
   ]
  },
  {
   "cell_type": "code",
   "execution_count": 15,
   "metadata": {},
   "outputs": [
    {
     "data": {
      "text/plain": [
       "array([     nan, 1178180., 1173292., ..., 1129047., 1203643., 1121084.])"
      ]
     },
     "execution_count": 15,
     "metadata": {},
     "output_type": "execute_result"
    }
   ],
   "source": [
    "data['X Coordinate'].unique()"
   ]
  },
  {
   "cell_type": "code",
   "execution_count": 16,
   "metadata": {},
   "outputs": [
    {
     "data": {
      "text/plain": [
       "array([        nan, 41.83048184, 41.83631022, ..., 41.87317909,\n",
       "       41.70228413, 41.7256971 ])"
      ]
     },
     "execution_count": 16,
     "metadata": {},
     "output_type": "execute_result"
    }
   ],
   "source": [
    "data['Latitude'].unique()"
   ]
  },
  {
   "cell_type": "code",
   "execution_count": 17,
   "metadata": {},
   "outputs": [
    {
     "data": {
      "text/plain": [
       "array(['DECEPTIVE PRACTICE', 'OTHER OFFENSE', 'THEFT', 'BATTERY',\n",
       "       'ASSAULT', 'WEAPONS VIOLATION', 'INTERFERENCE WITH PUBLIC OFFICER',\n",
       "       'SEX OFFENSE', 'BURGLARY', 'NARCOTICS', 'LIQUOR LAW VIOLATION',\n",
       "       'CRIM SEXUAL ASSAULT', 'MOTOR VEHICLE THEFT', 'CRIMINAL DAMAGE',\n",
       "       'OFFENSE INVOLVING CHILDREN', 'CRIMINAL TRESPASS', 'ROBBERY',\n",
       "       'PUBLIC PEACE VIOLATION', 'CRIMINAL SEXUAL ASSAULT',\n",
       "       'PROSTITUTION', 'STALKING', 'HOMICIDE', 'KIDNAPPING', 'ARSON',\n",
       "       'CONCEALED CARRY LICENSE VIOLATION', 'GAMBLING', 'OBSCENITY',\n",
       "       'INTIMIDATION', 'OTHER NARCOTIC VIOLATION', 'PUBLIC INDECENCY',\n",
       "       'NON-CRIMINAL', 'HUMAN TRAFFICKING', 'RITUALISM',\n",
       "       'DOMESTIC VIOLENCE', 'NON-CRIMINAL (SUBJECT SPECIFIED)',\n",
       "       'NON - CRIMINAL'], dtype=object)"
      ]
     },
     "execution_count": 17,
     "metadata": {},
     "output_type": "execute_result"
    }
   ],
   "source": [
    "data['Primary Type'].unique()"
   ]
  },
  {
   "cell_type": "code",
   "execution_count": 22,
   "metadata": {},
   "outputs": [
    {
     "data": {
      "text/plain": [
       "Domestic\n",
       "False    6752861\n",
       "True     1403647\n",
       "Name: count, dtype: int64"
      ]
     },
     "execution_count": 22,
     "metadata": {},
     "output_type": "execute_result"
    }
   ],
   "source": [
    "data['Domestic'].value_counts()"
   ]
  },
  {
   "cell_type": "code",
   "execution_count": 23,
   "metadata": {},
   "outputs": [
    {
     "data": {
      "text/plain": [
       "District\n",
       "8.0     547438\n",
       "11.0    520147\n",
       "6.0     476966\n",
       "7.0     465611\n",
       "25.0    462450\n",
       "4.0     462297\n",
       "3.0     413535\n",
       "12.0    408274\n",
       "9.0     396915\n",
       "2.0     387357\n",
       "19.0    369432\n",
       "18.0    368329\n",
       "5.0     359942\n",
       "10.0    350902\n",
       "15.0    345793\n",
       "1.0     335478\n",
       "14.0    314830\n",
       "16.0    274085\n",
       "22.0    266608\n",
       "24.0    248332\n",
       "17.0    235862\n",
       "20.0    145616\n",
       "31.0       258\n",
       "21.0         4\n",
       "Name: count, dtype: int64"
      ]
     },
     "execution_count": 23,
     "metadata": {},
     "output_type": "execute_result"
    }
   ],
   "source": [
    "data['District'].value_counts()"
   ]
  },
  {
   "cell_type": "code",
   "execution_count": null,
   "metadata": {},
   "outputs": [],
   "source": []
  }
 ],
 "metadata": {
  "kernelspec": {
   "display_name": "Python 3",
   "language": "python",
   "name": "python3"
  },
  "language_info": {
   "codemirror_mode": {
    "name": "ipython",
    "version": 3
   },
   "file_extension": ".py",
   "mimetype": "text/x-python",
   "name": "python",
   "nbconvert_exporter": "python",
   "pygments_lexer": "ipython3",
   "version": "3.12.5"
  }
 },
 "nbformat": 4,
 "nbformat_minor": 2
}
