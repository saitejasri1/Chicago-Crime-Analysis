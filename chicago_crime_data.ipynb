{
 "cells": [
  {
   "cell_type": "markdown",
   "metadata": {},
   "source": [
    "## Import necessary Libraries"
   ]
  },
  {
   "cell_type": "code",
   "execution_count": 38,
   "metadata": {},
   "outputs": [],
   "source": [
    "import pandas as pd\n",
    "import numpy as np\n",
    "# import matplotlib.pyplot as plt\n",
    "# import seaborn as sns\n",
    "# import dask.dataframe as dd\n",
    "import datetime"
   ]
  },
  {
   "cell_type": "code",
   "execution_count": 39,
   "metadata": {},
   "outputs": [],
   "source": [
    "data = pd.read_csv('/Users/saitejasriyerramsetti/Documents/BDA 696/Final Project/Crimes_-_2001_to_Present_20240918.csv')"
   ]
  },
  {
   "cell_type": "code",
   "execution_count": 40,
   "metadata": {},
   "outputs": [
    {
     "data": {
      "text/plain": [
       "Index(['ID', 'Case Number', 'Date', 'Block', 'IUCR', 'Primary Type',\n",
       "       'Description', 'Location Description', 'Arrest', 'Domestic', 'Beat',\n",
       "       'District', 'Ward', 'Community Area', 'FBI Code', 'X Coordinate',\n",
       "       'Y Coordinate', 'Year', 'Updated On', 'Latitude', 'Longitude',\n",
       "       'Location'],\n",
       "      dtype='object')"
      ]
     },
     "execution_count": 40,
     "metadata": {},
     "output_type": "execute_result"
    }
   ],
   "source": [
    "data.columns"
   ]
  },
  {
   "cell_type": "code",
   "execution_count": 41,
   "metadata": {},
   "outputs": [
    {
     "data": {
      "text/html": [
       "<div>\n",
       "<style scoped>\n",
       "    .dataframe tbody tr th:only-of-type {\n",
       "        vertical-align: middle;\n",
       "    }\n",
       "\n",
       "    .dataframe tbody tr th {\n",
       "        vertical-align: top;\n",
       "    }\n",
       "\n",
       "    .dataframe thead th {\n",
       "        text-align: right;\n",
       "    }\n",
       "</style>\n",
       "<table border=\"1\" class=\"dataframe\">\n",
       "  <thead>\n",
       "    <tr style=\"text-align: right;\">\n",
       "      <th></th>\n",
       "      <th>ID</th>\n",
       "      <th>Case Number</th>\n",
       "      <th>Date</th>\n",
       "      <th>Block</th>\n",
       "      <th>IUCR</th>\n",
       "      <th>Primary Type</th>\n",
       "      <th>Description</th>\n",
       "      <th>Location Description</th>\n",
       "      <th>Arrest</th>\n",
       "      <th>Domestic</th>\n",
       "      <th>...</th>\n",
       "      <th>Ward</th>\n",
       "      <th>Community Area</th>\n",
       "      <th>FBI Code</th>\n",
       "      <th>X Coordinate</th>\n",
       "      <th>Y Coordinate</th>\n",
       "      <th>Year</th>\n",
       "      <th>Updated On</th>\n",
       "      <th>Latitude</th>\n",
       "      <th>Longitude</th>\n",
       "      <th>Location</th>\n",
       "    </tr>\n",
       "  </thead>\n",
       "  <tbody>\n",
       "    <tr>\n",
       "      <th>0</th>\n",
       "      <td>11037294</td>\n",
       "      <td>JA371270</td>\n",
       "      <td>03/18/2015 12:00:00 PM</td>\n",
       "      <td>0000X W WACKER DR</td>\n",
       "      <td>1153</td>\n",
       "      <td>DECEPTIVE PRACTICE</td>\n",
       "      <td>FINANCIAL IDENTITY THEFT OVER $ 300</td>\n",
       "      <td>BANK</td>\n",
       "      <td>False</td>\n",
       "      <td>False</td>\n",
       "      <td>...</td>\n",
       "      <td>42.0</td>\n",
       "      <td>32.0</td>\n",
       "      <td>11</td>\n",
       "      <td>NaN</td>\n",
       "      <td>NaN</td>\n",
       "      <td>2015</td>\n",
       "      <td>08/01/2017 03:52:26 PM</td>\n",
       "      <td>NaN</td>\n",
       "      <td>NaN</td>\n",
       "      <td>NaN</td>\n",
       "    </tr>\n",
       "    <tr>\n",
       "      <th>1</th>\n",
       "      <td>11646293</td>\n",
       "      <td>JC213749</td>\n",
       "      <td>12/20/2018 03:00:00 PM</td>\n",
       "      <td>023XX N LOCKWOOD AVE</td>\n",
       "      <td>1154</td>\n",
       "      <td>DECEPTIVE PRACTICE</td>\n",
       "      <td>FINANCIAL IDENTITY THEFT $300 AND UNDER</td>\n",
       "      <td>APARTMENT</td>\n",
       "      <td>False</td>\n",
       "      <td>False</td>\n",
       "      <td>...</td>\n",
       "      <td>36.0</td>\n",
       "      <td>19.0</td>\n",
       "      <td>11</td>\n",
       "      <td>NaN</td>\n",
       "      <td>NaN</td>\n",
       "      <td>2018</td>\n",
       "      <td>04/06/2019 04:04:43 PM</td>\n",
       "      <td>NaN</td>\n",
       "      <td>NaN</td>\n",
       "      <td>NaN</td>\n",
       "    </tr>\n",
       "    <tr>\n",
       "      <th>2</th>\n",
       "      <td>11645836</td>\n",
       "      <td>JC212333</td>\n",
       "      <td>05/01/2016 12:25:00 AM</td>\n",
       "      <td>055XX S ROCKWELL ST</td>\n",
       "      <td>1153</td>\n",
       "      <td>DECEPTIVE PRACTICE</td>\n",
       "      <td>FINANCIAL IDENTITY THEFT OVER $ 300</td>\n",
       "      <td>NaN</td>\n",
       "      <td>False</td>\n",
       "      <td>False</td>\n",
       "      <td>...</td>\n",
       "      <td>15.0</td>\n",
       "      <td>63.0</td>\n",
       "      <td>11</td>\n",
       "      <td>NaN</td>\n",
       "      <td>NaN</td>\n",
       "      <td>2016</td>\n",
       "      <td>04/06/2019 04:04:43 PM</td>\n",
       "      <td>NaN</td>\n",
       "      <td>NaN</td>\n",
       "      <td>NaN</td>\n",
       "    </tr>\n",
       "    <tr>\n",
       "      <th>3</th>\n",
       "      <td>11645959</td>\n",
       "      <td>JC211511</td>\n",
       "      <td>12/20/2018 04:00:00 PM</td>\n",
       "      <td>045XX N ALBANY AVE</td>\n",
       "      <td>2820</td>\n",
       "      <td>OTHER OFFENSE</td>\n",
       "      <td>TELEPHONE THREAT</td>\n",
       "      <td>RESIDENCE</td>\n",
       "      <td>False</td>\n",
       "      <td>False</td>\n",
       "      <td>...</td>\n",
       "      <td>33.0</td>\n",
       "      <td>14.0</td>\n",
       "      <td>08A</td>\n",
       "      <td>NaN</td>\n",
       "      <td>NaN</td>\n",
       "      <td>2018</td>\n",
       "      <td>04/06/2019 04:04:43 PM</td>\n",
       "      <td>NaN</td>\n",
       "      <td>NaN</td>\n",
       "      <td>NaN</td>\n",
       "    </tr>\n",
       "    <tr>\n",
       "      <th>4</th>\n",
       "      <td>11645601</td>\n",
       "      <td>JC212935</td>\n",
       "      <td>06/01/2014 12:01:00 AM</td>\n",
       "      <td>087XX S SANGAMON ST</td>\n",
       "      <td>1153</td>\n",
       "      <td>DECEPTIVE PRACTICE</td>\n",
       "      <td>FINANCIAL IDENTITY THEFT OVER $ 300</td>\n",
       "      <td>RESIDENCE</td>\n",
       "      <td>False</td>\n",
       "      <td>False</td>\n",
       "      <td>...</td>\n",
       "      <td>21.0</td>\n",
       "      <td>71.0</td>\n",
       "      <td>11</td>\n",
       "      <td>NaN</td>\n",
       "      <td>NaN</td>\n",
       "      <td>2014</td>\n",
       "      <td>04/06/2019 04:04:43 PM</td>\n",
       "      <td>NaN</td>\n",
       "      <td>NaN</td>\n",
       "      <td>NaN</td>\n",
       "    </tr>\n",
       "  </tbody>\n",
       "</table>\n",
       "<p>5 rows × 22 columns</p>\n",
       "</div>"
      ],
      "text/plain": [
       "         ID Case Number                    Date                 Block  IUCR  \\\n",
       "0  11037294    JA371270  03/18/2015 12:00:00 PM     0000X W WACKER DR  1153   \n",
       "1  11646293    JC213749  12/20/2018 03:00:00 PM  023XX N LOCKWOOD AVE  1154   \n",
       "2  11645836    JC212333  05/01/2016 12:25:00 AM   055XX S ROCKWELL ST  1153   \n",
       "3  11645959    JC211511  12/20/2018 04:00:00 PM    045XX N ALBANY AVE  2820   \n",
       "4  11645601    JC212935  06/01/2014 12:01:00 AM   087XX S SANGAMON ST  1153   \n",
       "\n",
       "         Primary Type                              Description  \\\n",
       "0  DECEPTIVE PRACTICE      FINANCIAL IDENTITY THEFT OVER $ 300   \n",
       "1  DECEPTIVE PRACTICE  FINANCIAL IDENTITY THEFT $300 AND UNDER   \n",
       "2  DECEPTIVE PRACTICE      FINANCIAL IDENTITY THEFT OVER $ 300   \n",
       "3       OTHER OFFENSE                         TELEPHONE THREAT   \n",
       "4  DECEPTIVE PRACTICE      FINANCIAL IDENTITY THEFT OVER $ 300   \n",
       "\n",
       "  Location Description  Arrest  Domestic  ...  Ward  Community Area  FBI Code  \\\n",
       "0                 BANK   False     False  ...  42.0            32.0        11   \n",
       "1            APARTMENT   False     False  ...  36.0            19.0        11   \n",
       "2                  NaN   False     False  ...  15.0            63.0        11   \n",
       "3            RESIDENCE   False     False  ...  33.0            14.0       08A   \n",
       "4            RESIDENCE   False     False  ...  21.0            71.0        11   \n",
       "\n",
       "   X Coordinate Y Coordinate  Year              Updated On  Latitude  \\\n",
       "0           NaN          NaN  2015  08/01/2017 03:52:26 PM       NaN   \n",
       "1           NaN          NaN  2018  04/06/2019 04:04:43 PM       NaN   \n",
       "2           NaN          NaN  2016  04/06/2019 04:04:43 PM       NaN   \n",
       "3           NaN          NaN  2018  04/06/2019 04:04:43 PM       NaN   \n",
       "4           NaN          NaN  2014  04/06/2019 04:04:43 PM       NaN   \n",
       "\n",
       "  Longitude  Location  \n",
       "0       NaN       NaN  \n",
       "1       NaN       NaN  \n",
       "2       NaN       NaN  \n",
       "3       NaN       NaN  \n",
       "4       NaN       NaN  \n",
       "\n",
       "[5 rows x 22 columns]"
      ]
     },
     "execution_count": 41,
     "metadata": {},
     "output_type": "execute_result"
    }
   ],
   "source": [
    "data.head()# IUCR illinois code for reporting crimes"
   ]
  },
  {
   "cell_type": "code",
   "execution_count": 42,
   "metadata": {},
   "outputs": [
    {
     "data": {
      "text/plain": [
       "0     111\n",
       "1    2515\n",
       "2     824\n",
       "3    1724\n",
       "4    2222\n",
       "Name: Beat, dtype: int64"
      ]
     },
     "execution_count": 42,
     "metadata": {},
     "output_type": "execute_result"
    }
   ],
   "source": [
    "data['Beat'].head()"
   ]
  },
  {
   "cell_type": "code",
   "execution_count": 43,
   "metadata": {},
   "outputs": [
    {
     "data": {
      "text/plain": [
       "(8156508, 22)"
      ]
     },
     "execution_count": 43,
     "metadata": {},
     "output_type": "execute_result"
    }
   ],
   "source": [
    "data.shape #8156508, 22"
   ]
  },
  {
   "cell_type": "code",
   "execution_count": 44,
   "metadata": {},
   "outputs": [
    {
     "name": "stdout",
     "output_type": "stream",
     "text": [
      "<class 'pandas.core.frame.DataFrame'>\n",
      "RangeIndex: 8156508 entries, 0 to 8156507\n",
      "Data columns (total 22 columns):\n",
      " #   Column                Dtype  \n",
      "---  ------                -----  \n",
      " 0   ID                    int64  \n",
      " 1   Case Number           object \n",
      " 2   Date                  object \n",
      " 3   Block                 object \n",
      " 4   IUCR                  object \n",
      " 5   Primary Type          object \n",
      " 6   Description           object \n",
      " 7   Location Description  object \n",
      " 8   Arrest                bool   \n",
      " 9   Domestic              bool   \n",
      " 10  Beat                  int64  \n",
      " 11  District              float64\n",
      " 12  Ward                  float64\n",
      " 13  Community Area        float64\n",
      " 14  FBI Code              object \n",
      " 15  X Coordinate          float64\n",
      " 16  Y Coordinate          float64\n",
      " 17  Year                  int64  \n",
      " 18  Updated On            object \n",
      " 19  Latitude              float64\n",
      " 20  Longitude             float64\n",
      " 21  Location              object \n",
      "dtypes: bool(2), float64(7), int64(3), object(10)\n",
      "memory usage: 1.2+ GB\n"
     ]
    }
   ],
   "source": [
    "data.info()"
   ]
  },
  {
   "cell_type": "code",
   "execution_count": 45,
   "metadata": {},
   "outputs": [
    {
     "data": {
      "text/plain": [
       "<bound method NDFrame.describe of                ID Case Number                    Date  \\\n",
       "0        11037294    JA371270  03/18/2015 12:00:00 PM   \n",
       "1        11646293    JC213749  12/20/2018 03:00:00 PM   \n",
       "2        11645836    JC212333  05/01/2016 12:25:00 AM   \n",
       "3        11645959    JC211511  12/20/2018 04:00:00 PM   \n",
       "4        11645601    JC212935  06/01/2014 12:01:00 AM   \n",
       "...           ...         ...                     ...   \n",
       "8156503  12131776    JD327752  08/10/2020 08:30:00 PM   \n",
       "8156504  12082414    JD269218  06/18/2020 09:00:00 PM   \n",
       "8156505  12118237    JD311791  07/27/2020 03:02:00 PM   \n",
       "8156506  12142591    JD340297  08/14/2020 03:00:00 PM   \n",
       "8156507  12002171    JD177406  03/06/2020 02:00:00 PM   \n",
       "\n",
       "                                       Block  IUCR         Primary Type  \\\n",
       "0                          0000X W WACKER DR  1153   DECEPTIVE PRACTICE   \n",
       "1                       023XX N LOCKWOOD AVE  1154   DECEPTIVE PRACTICE   \n",
       "2                        055XX S ROCKWELL ST  1153   DECEPTIVE PRACTICE   \n",
       "3                         045XX N ALBANY AVE  2820        OTHER OFFENSE   \n",
       "4                        087XX S SANGAMON ST  1153   DECEPTIVE PRACTICE   \n",
       "...                                      ...   ...                  ...   \n",
       "8156503               066XX S SACRAMENTO AVE  0620             BURGLARY   \n",
       "8156504  093XX S DR MARTIN LUTHER KING JR DR  0820                THEFT   \n",
       "8156505                      033XX W POLK ST  0486              BATTERY   \n",
       "8156506                 023XX W ROSEMONT AVE  0910  MOTOR VEHICLE THEFT   \n",
       "8156507                 033XX N LAKEWOOD AVE  1150   DECEPTIVE PRACTICE   \n",
       "\n",
       "                                     Description Location Description  Arrest  \\\n",
       "0            FINANCIAL IDENTITY THEFT OVER $ 300                 BANK   False   \n",
       "1        FINANCIAL IDENTITY THEFT $300 AND UNDER            APARTMENT   False   \n",
       "2            FINANCIAL IDENTITY THEFT OVER $ 300                  NaN   False   \n",
       "3                               TELEPHONE THREAT            RESIDENCE   False   \n",
       "4            FINANCIAL IDENTITY THEFT OVER $ 300            RESIDENCE   False   \n",
       "...                                          ...                  ...     ...   \n",
       "8156503                           UNLAWFUL ENTRY            APARTMENT   False   \n",
       "8156504                           $500 AND UNDER            RESIDENCE   False   \n",
       "8156505                  DOMESTIC BATTERY SIMPLE            APARTMENT   False   \n",
       "8156506                               AUTOMOBILE               STREET   False   \n",
       "8156507                        CREDIT CARD FRAUD            APARTMENT   False   \n",
       "\n",
       "         Domestic  ...  Ward  Community Area  FBI Code  X Coordinate  \\\n",
       "0           False  ...  42.0            32.0        11           NaN   \n",
       "1           False  ...  36.0            19.0        11           NaN   \n",
       "2           False  ...  15.0            63.0        11           NaN   \n",
       "3           False  ...  33.0            14.0       08A           NaN   \n",
       "4           False  ...  21.0            71.0        11           NaN   \n",
       "...           ...  ...   ...             ...       ...           ...   \n",
       "8156503     False  ...  17.0            66.0        05     1157527.0   \n",
       "8156504     False  ...   9.0            49.0        06     1180558.0   \n",
       "8156505      True  ...  24.0            27.0       08B     1154169.0   \n",
       "8156506     False  ...  50.0             2.0        07     1159419.0   \n",
       "8156507     False  ...  44.0             6.0        11     1167040.0   \n",
       "\n",
       "        Y Coordinate  Year              Updated On   Latitude  Longitude  \\\n",
       "0                NaN  2015  08/01/2017 03:52:26 PM        NaN        NaN   \n",
       "1                NaN  2018  04/06/2019 04:04:43 PM        NaN        NaN   \n",
       "2                NaN  2016  04/06/2019 04:04:43 PM        NaN        NaN   \n",
       "3                NaN  2018  04/06/2019 04:04:43 PM        NaN        NaN   \n",
       "4                NaN  2014  04/06/2019 04:04:43 PM        NaN        NaN   \n",
       "...              ...   ...                     ...        ...        ...   \n",
       "8156503    1860392.0  2020  08/17/2020 03:41:32 PM  41.772671 -87.698104   \n",
       "8156504    1843036.0  2020  06/25/2020 03:41:40 PM  41.724546 -87.614211   \n",
       "8156505    1896171.0  2020  08/03/2020 03:41:51 PM  41.870921 -87.709461   \n",
       "8156506    1941765.0  2020  08/26/2020 03:40:41 PM  41.995927 -87.688929   \n",
       "8156507    1922212.0  2020  03/13/2020 03:41:29 PM  41.942112 -87.661459   \n",
       "\n",
       "                              Location  \n",
       "0                                  NaN  \n",
       "1                                  NaN  \n",
       "2                                  NaN  \n",
       "3                                  NaN  \n",
       "4                                  NaN  \n",
       "...                                ...  \n",
       "8156503  (41.772671069, -87.698104059)  \n",
       "8156504  (41.724546436, -87.614210743)  \n",
       "8156505  (41.870920735, -87.709461362)  \n",
       "8156506  (41.995927389, -87.688928533)  \n",
       "8156507  (41.942112495, -87.661458579)  \n",
       "\n",
       "[8156508 rows x 22 columns]>"
      ]
     },
     "execution_count": 45,
     "metadata": {},
     "output_type": "execute_result"
    }
   ],
   "source": [
    "data.describe"
   ]
  },
  {
   "cell_type": "code",
   "execution_count": 46,
   "metadata": {},
   "outputs": [
    {
     "data": {
      "text/plain": [
       "ID                           0\n",
       "Case Number                  0\n",
       "Date                         0\n",
       "Block                        0\n",
       "IUCR                         0\n",
       "Primary Type                 0\n",
       "Description                  0\n",
       "Location Description     13553\n",
       "Arrest                       0\n",
       "Domestic                     0\n",
       "Beat                         0\n",
       "District                    47\n",
       "Ward                    614829\n",
       "Community Area          613453\n",
       "FBI Code                     0\n",
       "X Coordinate             89841\n",
       "Y Coordinate             89841\n",
       "Year                         0\n",
       "Updated On                   0\n",
       "Latitude                 89841\n",
       "Longitude                89841\n",
       "Location                 89841\n",
       "dtype: int64"
      ]
     },
     "execution_count": 46,
     "metadata": {},
     "output_type": "execute_result"
    }
   ],
   "source": [
    "data.isnull().sum()"
   ]
  },
  {
   "cell_type": "code",
   "execution_count": 47,
   "metadata": {},
   "outputs": [
    {
     "data": {
      "text/plain": [
       "Community Area\n",
       "25.0    466393\n",
       "8.0     268844\n",
       "43.0    248599\n",
       "23.0    234114\n",
       "28.0    232038\n",
       "         ...  \n",
       "74.0     16871\n",
       "12.0     14095\n",
       "47.0     11205\n",
       "9.0       7553\n",
       "0.0         76\n",
       "Name: count, Length: 78, dtype: int64"
      ]
     },
     "execution_count": 47,
     "metadata": {},
     "output_type": "execute_result"
    }
   ],
   "source": [
    "data['Community Area'].value_counts()"
   ]
  },
  {
   "cell_type": "code",
   "execution_count": 48,
   "metadata": {},
   "outputs": [
    {
     "data": {
      "text/plain": [
       "array([nan, '(41.830481843, -87.621751752)',\n",
       "       '(41.836310224, -87.639624112)', ...,\n",
       "       '(41.873179092, -87.718078907)', '(41.70228413, -87.606300025)',\n",
       "       '(41.725697102, -87.605186246)'], dtype=object)"
      ]
     },
     "execution_count": 48,
     "metadata": {},
     "output_type": "execute_result"
    }
   ],
   "source": [
    "data['Location'].unique()"
   ]
  },
  {
   "cell_type": "code",
   "execution_count": 49,
   "metadata": {},
   "outputs": [
    {
     "data": {
      "text/plain": [
       "array([     nan, 1178180., 1173292., ..., 1129047., 1203643., 1121084.])"
      ]
     },
     "execution_count": 49,
     "metadata": {},
     "output_type": "execute_result"
    }
   ],
   "source": [
    "data['X Coordinate'].unique()"
   ]
  },
  {
   "cell_type": "code",
   "execution_count": 50,
   "metadata": {},
   "outputs": [
    {
     "data": {
      "text/plain": [
       "array([        nan, 41.83048184, 41.83631022, ..., 41.87317909,\n",
       "       41.70228413, 41.7256971 ])"
      ]
     },
     "execution_count": 50,
     "metadata": {},
     "output_type": "execute_result"
    }
   ],
   "source": [
    "data['Latitude'].unique()"
   ]
  },
  {
   "cell_type": "code",
   "execution_count": 51,
   "metadata": {},
   "outputs": [
    {
     "data": {
      "text/plain": [
       "array(['DECEPTIVE PRACTICE', 'OTHER OFFENSE', 'THEFT', 'BATTERY',\n",
       "       'ASSAULT', 'WEAPONS VIOLATION', 'INTERFERENCE WITH PUBLIC OFFICER',\n",
       "       'SEX OFFENSE', 'BURGLARY', 'NARCOTICS', 'LIQUOR LAW VIOLATION',\n",
       "       'CRIM SEXUAL ASSAULT', 'MOTOR VEHICLE THEFT', 'CRIMINAL DAMAGE',\n",
       "       'OFFENSE INVOLVING CHILDREN', 'CRIMINAL TRESPASS', 'ROBBERY',\n",
       "       'PUBLIC PEACE VIOLATION', 'CRIMINAL SEXUAL ASSAULT',\n",
       "       'PROSTITUTION', 'STALKING', 'HOMICIDE', 'KIDNAPPING', 'ARSON',\n",
       "       'CONCEALED CARRY LICENSE VIOLATION', 'GAMBLING', 'OBSCENITY',\n",
       "       'INTIMIDATION', 'OTHER NARCOTIC VIOLATION', 'PUBLIC INDECENCY',\n",
       "       'NON-CRIMINAL', 'HUMAN TRAFFICKING', 'RITUALISM',\n",
       "       'DOMESTIC VIOLENCE', 'NON-CRIMINAL (SUBJECT SPECIFIED)',\n",
       "       'NON - CRIMINAL'], dtype=object)"
      ]
     },
     "execution_count": 51,
     "metadata": {},
     "output_type": "execute_result"
    }
   ],
   "source": [
    "data['Primary Type'].unique()"
   ]
  },
  {
   "cell_type": "code",
   "execution_count": 52,
   "metadata": {},
   "outputs": [
    {
     "data": {
      "text/plain": [
       "Domestic\n",
       "False    6752861\n",
       "True     1403647\n",
       "Name: count, dtype: int64"
      ]
     },
     "execution_count": 52,
     "metadata": {},
     "output_type": "execute_result"
    }
   ],
   "source": [
    "data['Domestic'].value_counts()"
   ]
  },
  {
   "cell_type": "code",
   "execution_count": 53,
   "metadata": {},
   "outputs": [
    {
     "data": {
      "text/plain": [
       "District\n",
       "8.0     547438\n",
       "11.0    520147\n",
       "6.0     476966\n",
       "7.0     465611\n",
       "25.0    462450\n",
       "4.0     462297\n",
       "3.0     413535\n",
       "12.0    408274\n",
       "9.0     396915\n",
       "2.0     387357\n",
       "19.0    369432\n",
       "18.0    368329\n",
       "5.0     359942\n",
       "10.0    350902\n",
       "15.0    345793\n",
       "1.0     335478\n",
       "14.0    314830\n",
       "16.0    274085\n",
       "22.0    266608\n",
       "24.0    248332\n",
       "17.0    235862\n",
       "20.0    145616\n",
       "31.0       258\n",
       "21.0         4\n",
       "Name: count, dtype: int64"
      ]
     },
     "execution_count": 53,
     "metadata": {},
     "output_type": "execute_result"
    }
   ],
   "source": [
    "data['District'].value_counts()"
   ]
  },
  {
   "cell_type": "code",
   "execution_count": 54,
   "metadata": {},
   "outputs": [],
   "source": [
    "data = data.drop(['X Coordinate', 'Y Coordinate'], axis=1)\n"
   ]
  },
  {
   "cell_type": "code",
   "execution_count": 55,
   "metadata": {},
   "outputs": [],
   "source": [
    "data = data.drop(['Beat','Ward','IUCR'], axis=1)"
   ]
  },
  {
   "cell_type": "code",
   "execution_count": 56,
   "metadata": {},
   "outputs": [],
   "source": [
    "data = data.drop(['Year'],axis = 1)"
   ]
  },
  {
   "cell_type": "code",
   "execution_count": 57,
   "metadata": {},
   "outputs": [
    {
     "name": "stdout",
     "output_type": "stream",
     "text": [
      "<class 'pandas.core.frame.DataFrame'>\n",
      "RangeIndex: 8156508 entries, 0 to 8156507\n",
      "Data columns (total 16 columns):\n",
      " #   Column                Dtype  \n",
      "---  ------                -----  \n",
      " 0   ID                    int64  \n",
      " 1   Case Number           object \n",
      " 2   Date                  object \n",
      " 3   Block                 object \n",
      " 4   Primary Type          object \n",
      " 5   Description           object \n",
      " 6   Location Description  object \n",
      " 7   Arrest                bool   \n",
      " 8   Domestic              bool   \n",
      " 9   District              float64\n",
      " 10  Community Area        float64\n",
      " 11  FBI Code              object \n",
      " 12  Updated On            object \n",
      " 13  Latitude              float64\n",
      " 14  Longitude             float64\n",
      " 15  Location              object \n",
      "dtypes: bool(2), float64(4), int64(1), object(9)\n",
      "memory usage: 886.8+ MB\n"
     ]
    }
   ],
   "source": [
    "data.info()"
   ]
  },
  {
   "cell_type": "code",
   "execution_count": 58,
   "metadata": {},
   "outputs": [
    {
     "data": {
      "text/html": [
       "<div>\n",
       "<style scoped>\n",
       "    .dataframe tbody tr th:only-of-type {\n",
       "        vertical-align: middle;\n",
       "    }\n",
       "\n",
       "    .dataframe tbody tr th {\n",
       "        vertical-align: top;\n",
       "    }\n",
       "\n",
       "    .dataframe thead th {\n",
       "        text-align: right;\n",
       "    }\n",
       "</style>\n",
       "<table border=\"1\" class=\"dataframe\">\n",
       "  <thead>\n",
       "    <tr style=\"text-align: right;\">\n",
       "      <th></th>\n",
       "      <th>ID</th>\n",
       "      <th>Case Number</th>\n",
       "      <th>Date</th>\n",
       "      <th>Block</th>\n",
       "      <th>Primary Type</th>\n",
       "      <th>Description</th>\n",
       "      <th>Location Description</th>\n",
       "      <th>Arrest</th>\n",
       "      <th>Domestic</th>\n",
       "      <th>District</th>\n",
       "      <th>Community Area</th>\n",
       "      <th>FBI Code</th>\n",
       "      <th>Updated On</th>\n",
       "      <th>Latitude</th>\n",
       "      <th>Longitude</th>\n",
       "      <th>Location</th>\n",
       "      <th>Day</th>\n",
       "      <th>Month</th>\n",
       "      <th>Year</th>\n",
       "    </tr>\n",
       "  </thead>\n",
       "  <tbody>\n",
       "    <tr>\n",
       "      <th>0</th>\n",
       "      <td>11037294</td>\n",
       "      <td>JA371270</td>\n",
       "      <td>2015-03-18 12:00:00</td>\n",
       "      <td>0000X W WACKER DR</td>\n",
       "      <td>DECEPTIVE PRACTICE</td>\n",
       "      <td>FINANCIAL IDENTITY THEFT OVER $ 300</td>\n",
       "      <td>BANK</td>\n",
       "      <td>False</td>\n",
       "      <td>False</td>\n",
       "      <td>1.0</td>\n",
       "      <td>32.0</td>\n",
       "      <td>11</td>\n",
       "      <td>08/01/2017 03:52:26 PM</td>\n",
       "      <td>NaN</td>\n",
       "      <td>NaN</td>\n",
       "      <td>NaN</td>\n",
       "      <td>18</td>\n",
       "      <td>3</td>\n",
       "      <td>2015</td>\n",
       "    </tr>\n",
       "    <tr>\n",
       "      <th>1</th>\n",
       "      <td>11646293</td>\n",
       "      <td>JC213749</td>\n",
       "      <td>2018-12-20 15:00:00</td>\n",
       "      <td>023XX N LOCKWOOD AVE</td>\n",
       "      <td>DECEPTIVE PRACTICE</td>\n",
       "      <td>FINANCIAL IDENTITY THEFT $300 AND UNDER</td>\n",
       "      <td>APARTMENT</td>\n",
       "      <td>False</td>\n",
       "      <td>False</td>\n",
       "      <td>25.0</td>\n",
       "      <td>19.0</td>\n",
       "      <td>11</td>\n",
       "      <td>04/06/2019 04:04:43 PM</td>\n",
       "      <td>NaN</td>\n",
       "      <td>NaN</td>\n",
       "      <td>NaN</td>\n",
       "      <td>20</td>\n",
       "      <td>12</td>\n",
       "      <td>2018</td>\n",
       "    </tr>\n",
       "    <tr>\n",
       "      <th>2</th>\n",
       "      <td>11645836</td>\n",
       "      <td>JC212333</td>\n",
       "      <td>2016-05-01 00:25:00</td>\n",
       "      <td>055XX S ROCKWELL ST</td>\n",
       "      <td>DECEPTIVE PRACTICE</td>\n",
       "      <td>FINANCIAL IDENTITY THEFT OVER $ 300</td>\n",
       "      <td>NaN</td>\n",
       "      <td>False</td>\n",
       "      <td>False</td>\n",
       "      <td>8.0</td>\n",
       "      <td>63.0</td>\n",
       "      <td>11</td>\n",
       "      <td>04/06/2019 04:04:43 PM</td>\n",
       "      <td>NaN</td>\n",
       "      <td>NaN</td>\n",
       "      <td>NaN</td>\n",
       "      <td>1</td>\n",
       "      <td>5</td>\n",
       "      <td>2016</td>\n",
       "    </tr>\n",
       "    <tr>\n",
       "      <th>3</th>\n",
       "      <td>11645959</td>\n",
       "      <td>JC211511</td>\n",
       "      <td>2018-12-20 16:00:00</td>\n",
       "      <td>045XX N ALBANY AVE</td>\n",
       "      <td>OTHER OFFENSE</td>\n",
       "      <td>TELEPHONE THREAT</td>\n",
       "      <td>RESIDENCE</td>\n",
       "      <td>False</td>\n",
       "      <td>False</td>\n",
       "      <td>17.0</td>\n",
       "      <td>14.0</td>\n",
       "      <td>08A</td>\n",
       "      <td>04/06/2019 04:04:43 PM</td>\n",
       "      <td>NaN</td>\n",
       "      <td>NaN</td>\n",
       "      <td>NaN</td>\n",
       "      <td>20</td>\n",
       "      <td>12</td>\n",
       "      <td>2018</td>\n",
       "    </tr>\n",
       "    <tr>\n",
       "      <th>4</th>\n",
       "      <td>11645601</td>\n",
       "      <td>JC212935</td>\n",
       "      <td>2014-06-01 00:01:00</td>\n",
       "      <td>087XX S SANGAMON ST</td>\n",
       "      <td>DECEPTIVE PRACTICE</td>\n",
       "      <td>FINANCIAL IDENTITY THEFT OVER $ 300</td>\n",
       "      <td>RESIDENCE</td>\n",
       "      <td>False</td>\n",
       "      <td>False</td>\n",
       "      <td>22.0</td>\n",
       "      <td>71.0</td>\n",
       "      <td>11</td>\n",
       "      <td>04/06/2019 04:04:43 PM</td>\n",
       "      <td>NaN</td>\n",
       "      <td>NaN</td>\n",
       "      <td>NaN</td>\n",
       "      <td>1</td>\n",
       "      <td>6</td>\n",
       "      <td>2014</td>\n",
       "    </tr>\n",
       "  </tbody>\n",
       "</table>\n",
       "</div>"
      ],
      "text/plain": [
       "         ID Case Number                Date                 Block  \\\n",
       "0  11037294    JA371270 2015-03-18 12:00:00     0000X W WACKER DR   \n",
       "1  11646293    JC213749 2018-12-20 15:00:00  023XX N LOCKWOOD AVE   \n",
       "2  11645836    JC212333 2016-05-01 00:25:00   055XX S ROCKWELL ST   \n",
       "3  11645959    JC211511 2018-12-20 16:00:00    045XX N ALBANY AVE   \n",
       "4  11645601    JC212935 2014-06-01 00:01:00   087XX S SANGAMON ST   \n",
       "\n",
       "         Primary Type                              Description  \\\n",
       "0  DECEPTIVE PRACTICE      FINANCIAL IDENTITY THEFT OVER $ 300   \n",
       "1  DECEPTIVE PRACTICE  FINANCIAL IDENTITY THEFT $300 AND UNDER   \n",
       "2  DECEPTIVE PRACTICE      FINANCIAL IDENTITY THEFT OVER $ 300   \n",
       "3       OTHER OFFENSE                         TELEPHONE THREAT   \n",
       "4  DECEPTIVE PRACTICE      FINANCIAL IDENTITY THEFT OVER $ 300   \n",
       "\n",
       "  Location Description  Arrest  Domestic  District  Community Area FBI Code  \\\n",
       "0                 BANK   False     False       1.0            32.0       11   \n",
       "1            APARTMENT   False     False      25.0            19.0       11   \n",
       "2                  NaN   False     False       8.0            63.0       11   \n",
       "3            RESIDENCE   False     False      17.0            14.0      08A   \n",
       "4            RESIDENCE   False     False      22.0            71.0       11   \n",
       "\n",
       "               Updated On  Latitude  Longitude Location  Day  Month  Year  \n",
       "0  08/01/2017 03:52:26 PM       NaN        NaN      NaN   18      3  2015  \n",
       "1  04/06/2019 04:04:43 PM       NaN        NaN      NaN   20     12  2018  \n",
       "2  04/06/2019 04:04:43 PM       NaN        NaN      NaN    1      5  2016  \n",
       "3  04/06/2019 04:04:43 PM       NaN        NaN      NaN   20     12  2018  \n",
       "4  04/06/2019 04:04:43 PM       NaN        NaN      NaN    1      6  2014  "
      ]
     },
     "execution_count": 58,
     "metadata": {},
     "output_type": "execute_result"
    }
   ],
   "source": [
    "# Convert the 'Date' column to datetime format\n",
    "data['Date'] = pd.to_datetime(data['Date'])\n",
    "\n",
    "# Extract day, month, and year into separate columns\n",
    "data['Day'] = data['Date'].dt.day\n",
    "data['Month'] = data['Date'].dt.month\n",
    "data['Year'] = data['Date'].dt.year\n",
    "\n",
    "# Display the first few rows to verify the changes\n",
    "data.head()"
   ]
  },
  {
   "cell_type": "code",
   "execution_count": 59,
   "metadata": {},
   "outputs": [
    {
     "data": {
      "text/html": [
       "<div>\n",
       "<style scoped>\n",
       "    .dataframe tbody tr th:only-of-type {\n",
       "        vertical-align: middle;\n",
       "    }\n",
       "\n",
       "    .dataframe tbody tr th {\n",
       "        vertical-align: top;\n",
       "    }\n",
       "\n",
       "    .dataframe thead th {\n",
       "        text-align: right;\n",
       "    }\n",
       "</style>\n",
       "<table border=\"1\" class=\"dataframe\">\n",
       "  <thead>\n",
       "    <tr style=\"text-align: right;\">\n",
       "      <th></th>\n",
       "      <th>ID</th>\n",
       "      <th>Case Number</th>\n",
       "      <th>Date</th>\n",
       "      <th>Block</th>\n",
       "      <th>Primary Type</th>\n",
       "      <th>Description</th>\n",
       "      <th>Location Description</th>\n",
       "      <th>Arrest</th>\n",
       "      <th>Domestic</th>\n",
       "      <th>District</th>\n",
       "      <th>Community Area</th>\n",
       "      <th>FBI Code</th>\n",
       "      <th>Updated On</th>\n",
       "      <th>Latitude</th>\n",
       "      <th>Longitude</th>\n",
       "      <th>Location</th>\n",
       "      <th>Day</th>\n",
       "      <th>Month</th>\n",
       "      <th>Year</th>\n",
       "    </tr>\n",
       "  </thead>\n",
       "  <tbody>\n",
       "    <tr>\n",
       "      <th>0</th>\n",
       "      <td>11037294</td>\n",
       "      <td>JA371270</td>\n",
       "      <td>2015-03-18 12:00:00</td>\n",
       "      <td>0000X W WACKER DR</td>\n",
       "      <td>DECEPTIVE PRACTICE</td>\n",
       "      <td>FINANCIAL IDENTITY THEFT OVER $ 300</td>\n",
       "      <td>BANK</td>\n",
       "      <td>False</td>\n",
       "      <td>False</td>\n",
       "      <td>1.0</td>\n",
       "      <td>32.0</td>\n",
       "      <td>11</td>\n",
       "      <td>08/01/2017 03:52:26 PM</td>\n",
       "      <td>NaN</td>\n",
       "      <td>NaN</td>\n",
       "      <td>NaN</td>\n",
       "      <td>18</td>\n",
       "      <td>3</td>\n",
       "      <td>2015</td>\n",
       "    </tr>\n",
       "    <tr>\n",
       "      <th>1</th>\n",
       "      <td>11646293</td>\n",
       "      <td>JC213749</td>\n",
       "      <td>2018-12-20 15:00:00</td>\n",
       "      <td>023XX N LOCKWOOD AVE</td>\n",
       "      <td>DECEPTIVE PRACTICE</td>\n",
       "      <td>FINANCIAL IDENTITY THEFT $300 AND UNDER</td>\n",
       "      <td>APARTMENT</td>\n",
       "      <td>False</td>\n",
       "      <td>False</td>\n",
       "      <td>25.0</td>\n",
       "      <td>19.0</td>\n",
       "      <td>11</td>\n",
       "      <td>04/06/2019 04:04:43 PM</td>\n",
       "      <td>NaN</td>\n",
       "      <td>NaN</td>\n",
       "      <td>NaN</td>\n",
       "      <td>20</td>\n",
       "      <td>12</td>\n",
       "      <td>2018</td>\n",
       "    </tr>\n",
       "    <tr>\n",
       "      <th>2</th>\n",
       "      <td>11645836</td>\n",
       "      <td>JC212333</td>\n",
       "      <td>2016-05-01 00:25:00</td>\n",
       "      <td>055XX S ROCKWELL ST</td>\n",
       "      <td>DECEPTIVE PRACTICE</td>\n",
       "      <td>FINANCIAL IDENTITY THEFT OVER $ 300</td>\n",
       "      <td>NaN</td>\n",
       "      <td>False</td>\n",
       "      <td>False</td>\n",
       "      <td>8.0</td>\n",
       "      <td>63.0</td>\n",
       "      <td>11</td>\n",
       "      <td>04/06/2019 04:04:43 PM</td>\n",
       "      <td>NaN</td>\n",
       "      <td>NaN</td>\n",
       "      <td>NaN</td>\n",
       "      <td>1</td>\n",
       "      <td>5</td>\n",
       "      <td>2016</td>\n",
       "    </tr>\n",
       "    <tr>\n",
       "      <th>3</th>\n",
       "      <td>11645959</td>\n",
       "      <td>JC211511</td>\n",
       "      <td>2018-12-20 16:00:00</td>\n",
       "      <td>045XX N ALBANY AVE</td>\n",
       "      <td>OTHER OFFENSE</td>\n",
       "      <td>TELEPHONE THREAT</td>\n",
       "      <td>RESIDENCE</td>\n",
       "      <td>False</td>\n",
       "      <td>False</td>\n",
       "      <td>17.0</td>\n",
       "      <td>14.0</td>\n",
       "      <td>08A</td>\n",
       "      <td>04/06/2019 04:04:43 PM</td>\n",
       "      <td>NaN</td>\n",
       "      <td>NaN</td>\n",
       "      <td>NaN</td>\n",
       "      <td>20</td>\n",
       "      <td>12</td>\n",
       "      <td>2018</td>\n",
       "    </tr>\n",
       "    <tr>\n",
       "      <th>4</th>\n",
       "      <td>11645601</td>\n",
       "      <td>JC212935</td>\n",
       "      <td>2014-06-01 00:01:00</td>\n",
       "      <td>087XX S SANGAMON ST</td>\n",
       "      <td>DECEPTIVE PRACTICE</td>\n",
       "      <td>FINANCIAL IDENTITY THEFT OVER $ 300</td>\n",
       "      <td>RESIDENCE</td>\n",
       "      <td>False</td>\n",
       "      <td>False</td>\n",
       "      <td>22.0</td>\n",
       "      <td>71.0</td>\n",
       "      <td>11</td>\n",
       "      <td>04/06/2019 04:04:43 PM</td>\n",
       "      <td>NaN</td>\n",
       "      <td>NaN</td>\n",
       "      <td>NaN</td>\n",
       "      <td>1</td>\n",
       "      <td>6</td>\n",
       "      <td>2014</td>\n",
       "    </tr>\n",
       "  </tbody>\n",
       "</table>\n",
       "</div>"
      ],
      "text/plain": [
       "         ID Case Number                Date                 Block  \\\n",
       "0  11037294    JA371270 2015-03-18 12:00:00     0000X W WACKER DR   \n",
       "1  11646293    JC213749 2018-12-20 15:00:00  023XX N LOCKWOOD AVE   \n",
       "2  11645836    JC212333 2016-05-01 00:25:00   055XX S ROCKWELL ST   \n",
       "3  11645959    JC211511 2018-12-20 16:00:00    045XX N ALBANY AVE   \n",
       "4  11645601    JC212935 2014-06-01 00:01:00   087XX S SANGAMON ST   \n",
       "\n",
       "         Primary Type                              Description  \\\n",
       "0  DECEPTIVE PRACTICE      FINANCIAL IDENTITY THEFT OVER $ 300   \n",
       "1  DECEPTIVE PRACTICE  FINANCIAL IDENTITY THEFT $300 AND UNDER   \n",
       "2  DECEPTIVE PRACTICE      FINANCIAL IDENTITY THEFT OVER $ 300   \n",
       "3       OTHER OFFENSE                         TELEPHONE THREAT   \n",
       "4  DECEPTIVE PRACTICE      FINANCIAL IDENTITY THEFT OVER $ 300   \n",
       "\n",
       "  Location Description  Arrest  Domestic  District  Community Area FBI Code  \\\n",
       "0                 BANK   False     False       1.0            32.0       11   \n",
       "1            APARTMENT   False     False      25.0            19.0       11   \n",
       "2                  NaN   False     False       8.0            63.0       11   \n",
       "3            RESIDENCE   False     False      17.0            14.0      08A   \n",
       "4            RESIDENCE   False     False      22.0            71.0       11   \n",
       "\n",
       "               Updated On  Latitude  Longitude Location  Day  Month  Year  \n",
       "0  08/01/2017 03:52:26 PM       NaN        NaN      NaN   18      3  2015  \n",
       "1  04/06/2019 04:04:43 PM       NaN        NaN      NaN   20     12  2018  \n",
       "2  04/06/2019 04:04:43 PM       NaN        NaN      NaN    1      5  2016  \n",
       "3  04/06/2019 04:04:43 PM       NaN        NaN      NaN   20     12  2018  \n",
       "4  04/06/2019 04:04:43 PM       NaN        NaN      NaN    1      6  2014  "
      ]
     },
     "execution_count": 59,
     "metadata": {},
     "output_type": "execute_result"
    }
   ],
   "source": [
    "data.head()"
   ]
  },
  {
   "cell_type": "code",
   "execution_count": 60,
   "metadata": {},
   "outputs": [
    {
     "data": {
      "text/html": [
       "<div>\n",
       "<style scoped>\n",
       "    .dataframe tbody tr th:only-of-type {\n",
       "        vertical-align: middle;\n",
       "    }\n",
       "\n",
       "    .dataframe tbody tr th {\n",
       "        vertical-align: top;\n",
       "    }\n",
       "\n",
       "    .dataframe thead th {\n",
       "        text-align: right;\n",
       "    }\n",
       "</style>\n",
       "<table border=\"1\" class=\"dataframe\">\n",
       "  <thead>\n",
       "    <tr style=\"text-align: right;\">\n",
       "      <th></th>\n",
       "      <th>ID</th>\n",
       "      <th>Case Number</th>\n",
       "      <th>Date</th>\n",
       "      <th>Block</th>\n",
       "      <th>Primary Type</th>\n",
       "      <th>Description</th>\n",
       "      <th>Location Description</th>\n",
       "      <th>Arrest</th>\n",
       "      <th>Domestic</th>\n",
       "      <th>District</th>\n",
       "      <th>Community Area</th>\n",
       "      <th>FBI Code</th>\n",
       "      <th>Updated On</th>\n",
       "      <th>Latitude</th>\n",
       "      <th>Longitude</th>\n",
       "      <th>Location</th>\n",
       "      <th>Day</th>\n",
       "      <th>Month</th>\n",
       "      <th>Year</th>\n",
       "    </tr>\n",
       "  </thead>\n",
       "  <tbody>\n",
       "    <tr>\n",
       "      <th>11</th>\n",
       "      <td>12045583</td>\n",
       "      <td>JD226426</td>\n",
       "      <td>2020-05-07 10:24:00</td>\n",
       "      <td>035XX S INDIANA AVE</td>\n",
       "      <td>THEFT</td>\n",
       "      <td>$500 AND UNDER</td>\n",
       "      <td>APARTMENT</td>\n",
       "      <td>False</td>\n",
       "      <td>False</td>\n",
       "      <td>2.0</td>\n",
       "      <td>35.0</td>\n",
       "      <td>06</td>\n",
       "      <td>05/14/2020 08:47:15 AM</td>\n",
       "      <td>41.830482</td>\n",
       "      <td>-87.621752</td>\n",
       "      <td>(41.830481843, -87.621751752)</td>\n",
       "      <td>7</td>\n",
       "      <td>5</td>\n",
       "      <td>2020</td>\n",
       "    </tr>\n",
       "    <tr>\n",
       "      <th>12</th>\n",
       "      <td>12031001</td>\n",
       "      <td>JD209965</td>\n",
       "      <td>2020-04-16 05:00:00</td>\n",
       "      <td>005XX W 32ND ST</td>\n",
       "      <td>BATTERY</td>\n",
       "      <td>SIMPLE</td>\n",
       "      <td>APARTMENT</td>\n",
       "      <td>True</td>\n",
       "      <td>False</td>\n",
       "      <td>9.0</td>\n",
       "      <td>60.0</td>\n",
       "      <td>08B</td>\n",
       "      <td>04/23/2020 03:45:11 PM</td>\n",
       "      <td>41.836310</td>\n",
       "      <td>-87.639624</td>\n",
       "      <td>(41.836310224, -87.639624112)</td>\n",
       "      <td>16</td>\n",
       "      <td>4</td>\n",
       "      <td>2020</td>\n",
       "    </tr>\n",
       "    <tr>\n",
       "      <th>13</th>\n",
       "      <td>12093529</td>\n",
       "      <td>JD282112</td>\n",
       "      <td>2020-07-01 10:16:00</td>\n",
       "      <td>081XX S COLES AVE</td>\n",
       "      <td>ASSAULT</td>\n",
       "      <td>AGGRAVATED - HANDGUN</td>\n",
       "      <td>STREET</td>\n",
       "      <td>True</td>\n",
       "      <td>False</td>\n",
       "      <td>4.0</td>\n",
       "      <td>46.0</td>\n",
       "      <td>04A</td>\n",
       "      <td>07/08/2020 03:41:45 PM</td>\n",
       "      <td>41.747610</td>\n",
       "      <td>-87.549179</td>\n",
       "      <td>(41.747609555, -87.549179329)</td>\n",
       "      <td>1</td>\n",
       "      <td>7</td>\n",
       "      <td>2020</td>\n",
       "    </tr>\n",
       "    <tr>\n",
       "      <th>14</th>\n",
       "      <td>12178140</td>\n",
       "      <td>JD381597</td>\n",
       "      <td>2020-09-27 23:29:00</td>\n",
       "      <td>065XX S WOLCOTT AVE</td>\n",
       "      <td>BATTERY</td>\n",
       "      <td>SIMPLE</td>\n",
       "      <td>RESIDENCE - PORCH / HALLWAY</td>\n",
       "      <td>False</td>\n",
       "      <td>False</td>\n",
       "      <td>7.0</td>\n",
       "      <td>67.0</td>\n",
       "      <td>08B</td>\n",
       "      <td>10/04/2020 03:43:55 PM</td>\n",
       "      <td>41.774878</td>\n",
       "      <td>-87.671375</td>\n",
       "      <td>(41.77487752, -87.671374872)</td>\n",
       "      <td>27</td>\n",
       "      <td>9</td>\n",
       "      <td>2020</td>\n",
       "    </tr>\n",
       "    <tr>\n",
       "      <th>15</th>\n",
       "      <td>4144897</td>\n",
       "      <td>HL474854</td>\n",
       "      <td>2005-07-10 15:00:00</td>\n",
       "      <td>062XX S ABERDEEN ST</td>\n",
       "      <td>BATTERY</td>\n",
       "      <td>AGGRAVATED: OTHER DANG WEAPON</td>\n",
       "      <td>STREET</td>\n",
       "      <td>False</td>\n",
       "      <td>False</td>\n",
       "      <td>7.0</td>\n",
       "      <td>68.0</td>\n",
       "      <td>04B</td>\n",
       "      <td>02/28/2018 03:56:25 PM</td>\n",
       "      <td>41.781003</td>\n",
       "      <td>-87.652107</td>\n",
       "      <td>(41.781002663, -87.652107119)</td>\n",
       "      <td>10</td>\n",
       "      <td>7</td>\n",
       "      <td>2005</td>\n",
       "    </tr>\n",
       "  </tbody>\n",
       "</table>\n",
       "</div>"
      ],
      "text/plain": [
       "          ID Case Number                Date                Block  \\\n",
       "11  12045583    JD226426 2020-05-07 10:24:00  035XX S INDIANA AVE   \n",
       "12  12031001    JD209965 2020-04-16 05:00:00      005XX W 32ND ST   \n",
       "13  12093529    JD282112 2020-07-01 10:16:00    081XX S COLES AVE   \n",
       "14  12178140    JD381597 2020-09-27 23:29:00  065XX S WOLCOTT AVE   \n",
       "15   4144897    HL474854 2005-07-10 15:00:00  062XX S ABERDEEN ST   \n",
       "\n",
       "   Primary Type                    Description         Location Description  \\\n",
       "11        THEFT                 $500 AND UNDER                    APARTMENT   \n",
       "12      BATTERY                         SIMPLE                    APARTMENT   \n",
       "13      ASSAULT           AGGRAVATED - HANDGUN                       STREET   \n",
       "14      BATTERY                         SIMPLE  RESIDENCE - PORCH / HALLWAY   \n",
       "15      BATTERY  AGGRAVATED: OTHER DANG WEAPON                       STREET   \n",
       "\n",
       "    Arrest  Domestic  District  Community Area FBI Code  \\\n",
       "11   False     False       2.0            35.0       06   \n",
       "12    True     False       9.0            60.0      08B   \n",
       "13    True     False       4.0            46.0      04A   \n",
       "14   False     False       7.0            67.0      08B   \n",
       "15   False     False       7.0            68.0      04B   \n",
       "\n",
       "                Updated On   Latitude  Longitude  \\\n",
       "11  05/14/2020 08:47:15 AM  41.830482 -87.621752   \n",
       "12  04/23/2020 03:45:11 PM  41.836310 -87.639624   \n",
       "13  07/08/2020 03:41:45 PM  41.747610 -87.549179   \n",
       "14  10/04/2020 03:43:55 PM  41.774878 -87.671375   \n",
       "15  02/28/2018 03:56:25 PM  41.781003 -87.652107   \n",
       "\n",
       "                         Location  Day  Month  Year  \n",
       "11  (41.830481843, -87.621751752)    7      5  2020  \n",
       "12  (41.836310224, -87.639624112)   16      4  2020  \n",
       "13  (41.747609555, -87.549179329)    1      7  2020  \n",
       "14   (41.77487752, -87.671374872)   27      9  2020  \n",
       "15  (41.781002663, -87.652107119)   10      7  2005  "
      ]
     },
     "execution_count": 60,
     "metadata": {},
     "output_type": "execute_result"
    }
   ],
   "source": [
    "data = data.dropna(subset=['Latitude', 'Longitude'])\n",
    "data.head()"
   ]
  },
  {
   "cell_type": "code",
   "execution_count": 62,
   "metadata": {},
   "outputs": [
    {
     "data": {
      "text/plain": [
       "(8066667, 19)"
      ]
     },
     "execution_count": 62,
     "metadata": {},
     "output_type": "execute_result"
    }
   ],
   "source": [
    "data.shape"
   ]
  },
  {
   "cell_type": "code",
   "execution_count": 63,
   "metadata": {},
   "outputs": [
    {
     "data": {
      "text/plain": [
       "ID                           0\n",
       "Case Number                  0\n",
       "Date                         0\n",
       "Block                        0\n",
       "Primary Type                 0\n",
       "Description                  0\n",
       "Location Description      8688\n",
       "Arrest                       0\n",
       "Domestic                     0\n",
       "District                    47\n",
       "Community Area          604251\n",
       "FBI Code                     0\n",
       "Updated On                   0\n",
       "Latitude                     0\n",
       "Longitude                    0\n",
       "Location                     0\n",
       "Day                          0\n",
       "Month                        0\n",
       "Year                         0\n",
       "dtype: int64"
      ]
     },
     "execution_count": 63,
     "metadata": {},
     "output_type": "execute_result"
    }
   ],
   "source": [
    "data.isnull().sum() "
   ]
  },
  {
   "cell_type": "code",
   "execution_count": 64,
   "metadata": {},
   "outputs": [
    {
     "data": {
      "text/plain": [
       "array([35., 60., 46., 67., 68., 71., 25., 61., 42., 23., 24., 30., 22.,\n",
       "       43., 26., 44., 33., 66.,  8., 28., 52., 49., 48., 40., 27.,  6.,\n",
       "       38., 63.,  9.,  4., 69., 14., 76., 15., 64., 65., 12., 75., 74.,\n",
       "       19., 32., 36., 31.,  2., 17., 53., 73., 29., 45., 18.,  7.,  1.,\n",
       "       13., 72.,  3., 10., 41., 58., 20., 21., 54., 37., 62., 50., 70.,\n",
       "       59., 47., 77., 16.,  5., 34., 56., 39., 11., 51., 57., 55., nan,\n",
       "        0.])"
      ]
     },
     "execution_count": 64,
     "metadata": {},
     "output_type": "execute_result"
    }
   ],
   "source": [
    "data['Community Area'].unique()"
   ]
  },
  {
   "cell_type": "code",
   "execution_count": 65,
   "metadata": {},
   "outputs": [
    {
     "data": {
      "text/plain": [
       "Community Area\n",
       "25.0    461764\n",
       "8.0     265428\n",
       "43.0    246489\n",
       "23.0    231489\n",
       "28.0    229159\n",
       "         ...  \n",
       "74.0     16699\n",
       "12.0     13919\n",
       "47.0     11095\n",
       "9.0       7454\n",
       "0.0         69\n",
       "Name: count, Length: 78, dtype: int64"
      ]
     },
     "execution_count": 65,
     "metadata": {},
     "output_type": "execute_result"
    }
   ],
   "source": [
    "data['Community Area'].value_counts()"
   ]
  },
  {
   "cell_type": "code",
   "execution_count": 66,
   "metadata": {},
   "outputs": [
    {
     "data": {
      "text/plain": [
       "Block\n",
       "100XX W OHARE ST            16400\n",
       "001XX N STATE ST            16224\n",
       "076XX S CICERO AVE          10441\n",
       "0000X N STATE ST             9672\n",
       "008XX N MICHIGAN AVE         9566\n",
       "                            ...  \n",
       "021XX S DAN RYAN EXPY IB        1\n",
       "065XX N OAK PARK AV             1\n",
       "001XX N Ashland Ave             1\n",
       "023XX N NATCHEZ AV              1\n",
       "033XX N Hoyne Ave               1\n",
       "Name: count, Length: 62516, dtype: int64"
      ]
     },
     "execution_count": 66,
     "metadata": {},
     "output_type": "execute_result"
    }
   ],
   "source": [
    "data['Block'].value_counts()    "
   ]
  },
  {
   "cell_type": "code",
   "execution_count": 68,
   "metadata": {},
   "outputs": [
    {
     "data": {
      "text/plain": [
       "62516"
      ]
     },
     "execution_count": 68,
     "metadata": {},
     "output_type": "execute_result"
    }
   ],
   "source": [
    "data['Block'].nunique()"
   ]
  },
  {
   "cell_type": "code",
   "execution_count": null,
   "metadata": {},
   "outputs": [],
   "source": [
    "import pandas as pd\n",
    "import numpy as np\n",
    "from sklearn.impute import SimpleImputer\n",
    "from sklearn.ensemble import RandomForestClassifier\n",
    "from sklearn.model_selection import train_test_split\n",
    "from sklearn.preprocessing import LabelEncoder\n",
    "from geopy.distance import geodesic\n",
    "from scipy.spatial import cKDTree\n",
    "\n",
    "# Assume df is your DataFrame\n",
    "# df = pd.read_csv('your_data.csv')\n",
    "\n",
    "# a) Mode Imputation\n",
    "def mode_imputation(df):\n",
    "    mode_imputer = SimpleImputer(strategy='most_frequent')\n",
    "    df['Community Area Imputed'] = mode_imputer.fit_transform(df[['Community Area']])\n",
    "    return df\n",
    "\n",
    "# b) Geographical Imputation\n",
    "def geographical_imputation(df):\n",
    "    # First, create a reference dataset of known community areas\n",
    "    known_areas = df.dropna(subset=['Community Area', 'Latitude', 'Longitude'])\n",
    "    known_coords = known_areas[['Latitude', 'Longitude']].values\n",
    "    known_tree = cKDTree(known_coords)\n",
    "\n",
    "    # Function to find nearest known community area\n",
    "    def find_nearest_area(row):\n",
    "        if pd.isnull(row['Community Area']):\n",
    "            distance, index = known_tree.query([row['Latitude'], row['Longitude']])\n",
    "            return known_areas.iloc[index]['Community Area']\n",
    "        return row['Community Area']\n",
    "\n",
    "    # Apply the function to each row\n",
    "    df['Community Area Imputed'] = df.apply(find_nearest_area, axis=1)\n",
    "    return df\n",
    "\n",
    "# c) Machine Learning-based Imputation\n",
    "def ml_imputation(df):\n",
    "    # Prepare the data\n",
    "    features = ['Primary Type', 'Arrest', 'Domestic', 'Year', 'Latitude', 'Longitude']\n",
    "    \n",
    "    # Encode categorical variables\n",
    "    le = LabelEncoder()\n",
    "    for feature in features:\n",
    "        if df[feature].dtype == 'object':\n",
    "            df[feature] = le.fit_transform(df[feature].astype(str))\n",
    "    \n",
    "    # Split into samples with known and unknown Community Area\n",
    "    known = df.dropna(subset=['Community Area'])\n",
    "    unknown = df[df['Community Area'].isnull()]\n",
    "    \n",
    "    # Prepare the training data\n",
    "    X_train = known[features]\n",
    "    y_train = known['Community Area']\n",
    "    \n",
    "    # Train a Random Forest model\n",
    "    rf_model = RandomForestClassifier(n_estimators=100, random_state=42)\n",
    "    rf_model.fit(X_train, y_train)\n",
    "    \n",
    "    # Predict the unknown Community Areas\n",
    "    X_unknown = unknown[features]\n",
    "    unknown_predictions = rf_model.predict(X_unknown)\n",
    "    \n",
    "    # Fill in the predictions\n",
    "    df.loc[df['Community Area'].isnull(), 'Community Area Imputed'] = unknown_predictions\n",
    "    \n",
    "    # Fill known values\n",
    "    df.loc[df['Community Area'].notnull(), 'Community Area Imputed'] = df.loc[df['Community Area'].notnull(), 'Community Area']\n",
    "    \n",
    "    return df\n",
    "\n",
    "# Apply each method\n",
    "df_mode = mode_imputation(df.copy())\n",
    "df_geo = geographical_imputation(df.copy())\n",
    "df_ml = ml_imputation(df.copy())\n",
    "\n",
    "# Check results\n",
    "for df_imputed, method in zip([df_mode, df_geo, df_ml], ['Mode', 'Geographical', 'ML']):\n",
    "    print(f\"\\n{method} Imputation Results:\")\n",
    "    print(df_imputed['Community Area Imputed'].value_counts().head())\n",
    "    print(f\"Null values: {df_imputed['Community Area Imputed'].isnull().sum()}\")\n",
    "\n",
    "# If you want to choose one method, you can assign it back to the original dataframe\n",
    "# df['Community Area'] = df_ml['Community Area Imputed']  # for example, choosing ML imputation"
   ]
  },
  {
   "cell_type": "code",
   "execution_count": 72,
   "metadata": {},
   "outputs": [
    {
     "ename": "ValueError",
     "evalue": "could not convert string to float: 'JD226426'",
     "output_type": "error",
     "traceback": [
      "\u001b[0;31m---------------------------------------------------------------------------\u001b[0m",
      "\u001b[0;31mValueError\u001b[0m                                Traceback (most recent call last)",
      "Cell \u001b[0;32mIn[72], line 6\u001b[0m\n\u001b[1;32m      3\u001b[0m \u001b[38;5;28;01mimport\u001b[39;00m \u001b[38;5;21;01mmatplotlib\u001b[39;00m\u001b[38;5;21;01m.\u001b[39;00m\u001b[38;5;21;01mpyplot\u001b[39;00m \u001b[38;5;28;01mas\u001b[39;00m \u001b[38;5;21;01mplt\u001b[39;00m\n\u001b[1;32m      5\u001b[0m \u001b[38;5;66;03m# Calculate the correlation matrix\u001b[39;00m\n\u001b[0;32m----> 6\u001b[0m corr_matrix \u001b[38;5;241m=\u001b[39m \u001b[43mdata\u001b[49m\u001b[38;5;241;43m.\u001b[39;49m\u001b[43mcorr\u001b[49m\u001b[43m(\u001b[49m\u001b[43m)\u001b[49m\n\u001b[1;32m      8\u001b[0m \u001b[38;5;66;03m# Set up the matplotlib figure\u001b[39;00m\n\u001b[1;32m      9\u001b[0m plt\u001b[38;5;241m.\u001b[39mfigure(figsize\u001b[38;5;241m=\u001b[39m(\u001b[38;5;241m12\u001b[39m, \u001b[38;5;241m8\u001b[39m))\n",
      "File \u001b[0;32m~/Documents/BDA 696/Final Project/bdaenv/lib/python3.12/site-packages/pandas/core/frame.py:11049\u001b[0m, in \u001b[0;36mDataFrame.corr\u001b[0;34m(self, method, min_periods, numeric_only)\u001b[0m\n\u001b[1;32m  11047\u001b[0m cols \u001b[38;5;241m=\u001b[39m data\u001b[38;5;241m.\u001b[39mcolumns\n\u001b[1;32m  11048\u001b[0m idx \u001b[38;5;241m=\u001b[39m cols\u001b[38;5;241m.\u001b[39mcopy()\n\u001b[0;32m> 11049\u001b[0m mat \u001b[38;5;241m=\u001b[39m \u001b[43mdata\u001b[49m\u001b[38;5;241;43m.\u001b[39;49m\u001b[43mto_numpy\u001b[49m\u001b[43m(\u001b[49m\u001b[43mdtype\u001b[49m\u001b[38;5;241;43m=\u001b[39;49m\u001b[38;5;28;43mfloat\u001b[39;49m\u001b[43m,\u001b[49m\u001b[43m \u001b[49m\u001b[43mna_value\u001b[49m\u001b[38;5;241;43m=\u001b[39;49m\u001b[43mnp\u001b[49m\u001b[38;5;241;43m.\u001b[39;49m\u001b[43mnan\u001b[49m\u001b[43m,\u001b[49m\u001b[43m \u001b[49m\u001b[43mcopy\u001b[49m\u001b[38;5;241;43m=\u001b[39;49m\u001b[38;5;28;43;01mFalse\u001b[39;49;00m\u001b[43m)\u001b[49m\n\u001b[1;32m  11051\u001b[0m \u001b[38;5;28;01mif\u001b[39;00m method \u001b[38;5;241m==\u001b[39m \u001b[38;5;124m\"\u001b[39m\u001b[38;5;124mpearson\u001b[39m\u001b[38;5;124m\"\u001b[39m:\n\u001b[1;32m  11052\u001b[0m     correl \u001b[38;5;241m=\u001b[39m libalgos\u001b[38;5;241m.\u001b[39mnancorr(mat, minp\u001b[38;5;241m=\u001b[39mmin_periods)\n",
      "File \u001b[0;32m~/Documents/BDA 696/Final Project/bdaenv/lib/python3.12/site-packages/pandas/core/frame.py:1993\u001b[0m, in \u001b[0;36mDataFrame.to_numpy\u001b[0;34m(self, dtype, copy, na_value)\u001b[0m\n\u001b[1;32m   1991\u001b[0m \u001b[38;5;28;01mif\u001b[39;00m dtype \u001b[38;5;129;01mis\u001b[39;00m \u001b[38;5;129;01mnot\u001b[39;00m \u001b[38;5;28;01mNone\u001b[39;00m:\n\u001b[1;32m   1992\u001b[0m     dtype \u001b[38;5;241m=\u001b[39m np\u001b[38;5;241m.\u001b[39mdtype(dtype)\n\u001b[0;32m-> 1993\u001b[0m result \u001b[38;5;241m=\u001b[39m \u001b[38;5;28;43mself\u001b[39;49m\u001b[38;5;241;43m.\u001b[39;49m\u001b[43m_mgr\u001b[49m\u001b[38;5;241;43m.\u001b[39;49m\u001b[43mas_array\u001b[49m\u001b[43m(\u001b[49m\u001b[43mdtype\u001b[49m\u001b[38;5;241;43m=\u001b[39;49m\u001b[43mdtype\u001b[49m\u001b[43m,\u001b[49m\u001b[43m \u001b[49m\u001b[43mcopy\u001b[49m\u001b[38;5;241;43m=\u001b[39;49m\u001b[43mcopy\u001b[49m\u001b[43m,\u001b[49m\u001b[43m \u001b[49m\u001b[43mna_value\u001b[49m\u001b[38;5;241;43m=\u001b[39;49m\u001b[43mna_value\u001b[49m\u001b[43m)\u001b[49m\n\u001b[1;32m   1994\u001b[0m \u001b[38;5;28;01mif\u001b[39;00m result\u001b[38;5;241m.\u001b[39mdtype \u001b[38;5;129;01mis\u001b[39;00m \u001b[38;5;129;01mnot\u001b[39;00m dtype:\n\u001b[1;32m   1995\u001b[0m     result \u001b[38;5;241m=\u001b[39m np\u001b[38;5;241m.\u001b[39masarray(result, dtype\u001b[38;5;241m=\u001b[39mdtype)\n",
      "File \u001b[0;32m~/Documents/BDA 696/Final Project/bdaenv/lib/python3.12/site-packages/pandas/core/internals/managers.py:1694\u001b[0m, in \u001b[0;36mBlockManager.as_array\u001b[0;34m(self, dtype, copy, na_value)\u001b[0m\n\u001b[1;32m   1692\u001b[0m         arr\u001b[38;5;241m.\u001b[39mflags\u001b[38;5;241m.\u001b[39mwriteable \u001b[38;5;241m=\u001b[39m \u001b[38;5;28;01mFalse\u001b[39;00m\n\u001b[1;32m   1693\u001b[0m \u001b[38;5;28;01melse\u001b[39;00m:\n\u001b[0;32m-> 1694\u001b[0m     arr \u001b[38;5;241m=\u001b[39m \u001b[38;5;28;43mself\u001b[39;49m\u001b[38;5;241;43m.\u001b[39;49m\u001b[43m_interleave\u001b[49m\u001b[43m(\u001b[49m\u001b[43mdtype\u001b[49m\u001b[38;5;241;43m=\u001b[39;49m\u001b[43mdtype\u001b[49m\u001b[43m,\u001b[49m\u001b[43m \u001b[49m\u001b[43mna_value\u001b[49m\u001b[38;5;241;43m=\u001b[39;49m\u001b[43mna_value\u001b[49m\u001b[43m)\u001b[49m\n\u001b[1;32m   1695\u001b[0m     \u001b[38;5;66;03m# The underlying data was copied within _interleave, so no need\u001b[39;00m\n\u001b[1;32m   1696\u001b[0m     \u001b[38;5;66;03m# to further copy if copy=True or setting na_value\u001b[39;00m\n\u001b[1;32m   1698\u001b[0m \u001b[38;5;28;01mif\u001b[39;00m na_value \u001b[38;5;129;01mis\u001b[39;00m lib\u001b[38;5;241m.\u001b[39mno_default:\n",
      "File \u001b[0;32m~/Documents/BDA 696/Final Project/bdaenv/lib/python3.12/site-packages/pandas/core/internals/managers.py:1753\u001b[0m, in \u001b[0;36mBlockManager._interleave\u001b[0;34m(self, dtype, na_value)\u001b[0m\n\u001b[1;32m   1751\u001b[0m     \u001b[38;5;28;01melse\u001b[39;00m:\n\u001b[1;32m   1752\u001b[0m         arr \u001b[38;5;241m=\u001b[39m blk\u001b[38;5;241m.\u001b[39mget_values(dtype)\n\u001b[0;32m-> 1753\u001b[0m     \u001b[43mresult\u001b[49m\u001b[43m[\u001b[49m\u001b[43mrl\u001b[49m\u001b[38;5;241;43m.\u001b[39;49m\u001b[43mindexer\u001b[49m\u001b[43m]\u001b[49m \u001b[38;5;241m=\u001b[39m arr\n\u001b[1;32m   1754\u001b[0m     itemmask[rl\u001b[38;5;241m.\u001b[39mindexer] \u001b[38;5;241m=\u001b[39m \u001b[38;5;241m1\u001b[39m\n\u001b[1;32m   1756\u001b[0m \u001b[38;5;28;01mif\u001b[39;00m \u001b[38;5;129;01mnot\u001b[39;00m itemmask\u001b[38;5;241m.\u001b[39mall():\n",
      "\u001b[0;31mValueError\u001b[0m: could not convert string to float: 'JD226426'"
     ]
    }
   ],
   "source": [
    "import seaborn as sns\n",
    "\n",
    "import matplotlib.pyplot as plt\n",
    "\n",
    "# Calculate the correlation matrix\n",
    "corr_matrix = data.corr()\n",
    "\n",
    "# Set up the matplotlib figure\n",
    "plt.figure(figsize=(12, 8))\n",
    "\n",
    "# Draw the heatmap\n",
    "sns.heatmap(corr_matrix, annot=True, fmt=\".2f\", cmap='coolwarm', center=0)\n",
    "\n",
    "# Set the title\n",
    "plt.title('Correlation Heatmap with Community Area')\n",
    "\n",
    "# Show the plot\n",
    "plt.show()"
   ]
  },
  {
   "cell_type": "code",
   "execution_count": null,
   "metadata": {},
   "outputs": [],
   "source": []
  }
 ],
 "metadata": {
  "kernelspec": {
   "display_name": "Python 3",
   "language": "python",
   "name": "python3"
  },
  "language_info": {
   "codemirror_mode": {
    "name": "ipython",
    "version": 3
   },
   "file_extension": ".py",
   "mimetype": "text/x-python",
   "name": "python",
   "nbconvert_exporter": "python",
   "pygments_lexer": "ipython3",
   "version": "3.12.5"
  }
 },
 "nbformat": 4,
 "nbformat_minor": 2
}
